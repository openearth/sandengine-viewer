{
 "cells": [
  {
   "cell_type": "code",
   "execution_count": 35,
   "metadata": {
    "collapsed": true
   },
   "outputs": [],
   "source": [
    "import netCDF4 as nc\n",
    "import numpy as np\n",
    "import pydap.client\n",
    "import geojson"
   ]
  },
  {
   "cell_type": "code",
   "execution_count": 36,
   "metadata": {},
   "outputs": [
    {
     "name": "stdout",
     "output_type": "stream",
     "text": [
      "seconds since 1970-01-01 00:00:00 0:00\n"
     ]
    }
   ],
   "source": [
    "'''import meteo data from opendap'''\n",
    "\n",
    "# meteo_url = r\"http://opendap.tudelft.nl/thredds/dodsC/data2/zandmotor/meteohydro/meteo/meteo/meteo.nc\"\n",
    "meteo_url = r\"meteo.nc\"\n",
    "meteo_data = nc.Dataset(meteo_url)\n",
    "\n",
    "d = {}\n",
    "\n",
    "time = meteo_data.variables['Timestamp']\n",
    "time_units = \"seconds since 1970-01-01 00:00:00 0:00\"\n",
    "print(time_units)\n",
    "timeDT = list(map(str, nc.num2date(time[:], units=time_units).tolist()))\n",
    "\n",
    "d['time'] = timeDT\n",
    "d['lat']  = meteo_data.geospatial_lat_min\n",
    "d['lon'] = meteo_data.geospatial_lon_min\n",
    "\n",
    "for name in meteo_data.variables:\n",
    "    d[name] = meteo_data.variables[name][:].tolist()\n"
   ]
  },
  {
   "cell_type": "code",
   "execution_count": 37,
   "metadata": {},
   "outputs": [
    {
     "name": "stdout",
     "output_type": "stream",
     "text": [
      "Timestamp\n",
      "AirTemp_Avg\n",
      "RelHumidity_Avg\n",
      "Barometer_Avg\n",
      "SolarRad_Avg\n",
      "Rainfall\n",
      "WindSpeed_Avg\n",
      "WindSpeed_Min\n",
      "WindSpeed_Max\n",
      "WindDir_Avg\n",
      "WindDir_Std\n"
     ]
    }
   ],
   "source": [
    "\n",
    "for name in meteo_data.variables:\n",
    "    print(name)"
   ]
  },
  {
   "cell_type": "code",
   "execution_count": null,
   "metadata": {
    "collapsed": true
   },
   "outputs": [],
   "source": [
    "import json\n",
    "with open('meteo_data.json', 'w') as f:\n",
    "    json.dump(d, f)"
   ]
  },
  {
   "cell_type": "code",
   "execution_count": 27,
   "metadata": {},
   "outputs": [
    {
     "name": "stdout",
     "output_type": "stream",
     "text": [
      "seconds since 1970-01-01 00:00:00 0:00\n"
     ]
    }
   ],
   "source": [
    "'''import wind data from opendap'''\n",
    "wind_url = \"http://opendap.tudelft.nl/thredds/dodsC/data2/zandmotor/meteohydro/wind/wind.nc\"\n",
    "wind_data = nc.Dataset(wind_url)\n",
    "lat = float(np.squeeze(wind_data.variables['lat'][:]))\n",
    "lon = float(np.squeeze(wind_data.variables['lon'][:]))\n",
    "direc = np.squeeze(wind_data.variables['direction'][:]).tolist()\n",
    "aspeed = np.squeeze( wind_data.variables['average_speed'][:]).tolist()\n",
    "\n",
    "time = wind_data.variables['time']\n",
    "\n",
    "timeDT = list(map(str, nc.num2date(time[:], units=time.units).tolist()))\n",
    "print (time.units)"
   ]
  },
  {
   "cell_type": "code",
   "execution_count": 114,
   "metadata": {},
   "outputs": [],
   "source": [
    "import json\n",
    "jsonlist = dict({'lat': lat, 'lon': lon, 'direc': direc, 'aspeed': aspeed, 'time': timeDT})\n",
    "with open('wind_data.json', 'w') as f:\n",
    "    json.dump(jsonlist, f)"
   ]
  },
  {
   "cell_type": "code",
   "execution_count": null,
   "metadata": {
    "collapsed": true
   },
   "outputs": [],
   "source": []
  }
 ],
 "metadata": {
  "kernelspec": {
   "display_name": "Python 3",
   "language": "python",
   "name": "python3"
  },
  "language_info": {
   "codemirror_mode": {
    "name": "ipython",
    "version": 3
   },
   "file_extension": ".py",
   "mimetype": "text/x-python",
   "name": "python",
   "nbconvert_exporter": "python",
   "pygments_lexer": "ipython3",
   "version": "3.6.3"
  }
 },
 "nbformat": 4,
 "nbformat_minor": 2
}
