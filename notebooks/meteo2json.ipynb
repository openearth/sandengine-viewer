{
 "cells": [
  {
   "cell_type": "code",
   "execution_count": 227,
   "metadata": {
    "collapsed": true
   },
   "outputs": [],
   "source": [
    "import netCDF4 as nc\n",
    "import numpy as np\n",
    "import pydap.client\n",
    "import geojson\n",
    "import pandas as pd\n",
    "import datetime"
   ]
  },
  {
   "cell_type": "code",
   "execution_count": 89,
   "metadata": {},
   "outputs": [
    {
     "name": "stdout",
     "output_type": "stream",
     "text": [
      "seconds since 1970-01-01 00:00:00 0:00\n",
      "Wall time: 22.2 s\n"
     ]
    }
   ],
   "source": [
    "%%time\n",
    "'''import meteo data from opendap'''\n",
    "\n",
    "meteo_url = r\"http://opendap.tudelft.nl/thredds/dodsC/data2/zandmotor/meteohydro/meteo/meteo/meteo.nc\"\n",
    "#meteo_url = r\"meteo.nc\"\n",
    "meteo_data = nc.Dataset(meteo_url)\n",
    "\n",
    "d = {}\n",
    "\n",
    "time = meteo_data.variables['Timestamp']\n",
    "time_units = \"seconds since 1970-01-01 00:00:00 0:00\"\n",
    "print(time_units)\n",
    "timeDT = list(map(str, nc.num2date(time[:], units=time_units).tolist()))"
   ]
  },
  {
   "cell_type": "code",
   "execution_count": 7,
   "metadata": {},
   "outputs": [
    {
     "name": "stderr",
     "output_type": "stream",
     "text": [
      "IOPub data rate exceeded.\n",
      "The notebook server will temporarily stop sending output\n",
      "to the client in order to avoid crashing it.\n",
      "To change this limit, set the config variable\n",
      "`--NotebookApp.iopub_data_rate_limit`.\n"
     ]
    }
   ],
   "source": [
    "array = meteo_data.variables[\"RelHumidity_Avg\"][:].tolist()\n",
    "print (array[500000:750000])"
   ]
  },
  {
   "cell_type": "code",
   "execution_count": 106,
   "metadata": {
    "scrolled": false
   },
   "outputs": [
    {
     "data": {
      "text/plain": [
       "OrderedDict([('Timestamp', <class 'netCDF4._netCDF4.Variable'>\n",
       "              float64 Timestamp(time)\n",
       "                  comment: \n",
       "                  units: seconds from 1 January 1970\n",
       "                  standard_name: time\n",
       "                  coordinates: time\n",
       "                  long_name: timestamp\n",
       "              unlimited dimensions: \n",
       "              current shape = (1780510,)\n",
       "              filling off), ('AirTemp_Avg', <class 'netCDF4._netCDF4.Variable'>\n",
       "              float64 AirTemp_Avg(time)\n",
       "                  comment: \n",
       "                  units: K\n",
       "                  standard_name: air_temperature\n",
       "                  coordinates: time\n",
       "                  long_name: Air temperature on average\n",
       "              unlimited dimensions: \n",
       "              current shape = (1780510,)\n",
       "              filling off), ('RelHumidity_Avg',\n",
       "              <class 'netCDF4._netCDF4.Variable'>\n",
       "              float64 RelHumidity_Avg(time)\n",
       "                  comment: \n",
       "                  units: %\n",
       "                  standard_name: relative_humidity\n",
       "                  coordinates: time\n",
       "                  long_name: Relative humidity of outside air on average\n",
       "              unlimited dimensions: \n",
       "              current shape = (1780510,)\n",
       "              filling off), ('Barometer_Avg',\n",
       "              <class 'netCDF4._netCDF4.Variable'>\n",
       "              float64 Barometer_Avg(time)\n",
       "                  comment: \n",
       "                  units: Pa\n",
       "                  standard_name: air_pressure\n",
       "                  coordinates: time\n",
       "                  long_name: Average air pressure\n",
       "              unlimited dimensions: \n",
       "              current shape = (1780510,)\n",
       "              filling off), ('SolarRad_Avg',\n",
       "              <class 'netCDF4._netCDF4.Variable'>\n",
       "              float64 SolarRad_Avg(time)\n",
       "                  comment: \n",
       "                  units: W/m2\n",
       "                  standard_name: ?\n",
       "                  coordinates: time\n",
       "                  long_name: Solar radiation average\n",
       "              unlimited dimensions: \n",
       "              current shape = (1780510,)\n",
       "              filling off), ('Rainfall', <class 'netCDF4._netCDF4.Variable'>\n",
       "              float64 Rainfall(time)\n",
       "                  comment: \n",
       "                  units: m\n",
       "                  standard_name: thickness_of_rainfall_amount\n",
       "                  coordinates: time\n",
       "                  long_name: Rainfall\n",
       "              unlimited dimensions: \n",
       "              current shape = (1780510,)\n",
       "              filling off), ('WindSpeed_Avg',\n",
       "              <class 'netCDF4._netCDF4.Variable'>\n",
       "              float64 WindSpeed_Avg(time)\n",
       "                  comment: measured at 44 meter above surface\n",
       "                  units: m s-1\n",
       "                  standard_name: wind_speed\n",
       "                  coordinates: time\n",
       "                  long_name: average windspeed\n",
       "              unlimited dimensions: \n",
       "              current shape = (1780510,)\n",
       "              filling off), ('WindSpeed_Min',\n",
       "              <class 'netCDF4._netCDF4.Variable'>\n",
       "              float64 WindSpeed_Min(time)\n",
       "                  standard_name: wind_speed_min\n",
       "                  coordinates: time\n",
       "                  long_name: Minimum of the wind speed in the measurement interval\n",
       "                  comment: measured at 44 meter above surface\n",
       "                  units: m s-1\n",
       "              unlimited dimensions: \n",
       "              current shape = (1780510,)\n",
       "              filling off), ('WindSpeed_Max',\n",
       "              <class 'netCDF4._netCDF4.Variable'>\n",
       "              float64 WindSpeed_Max(time)\n",
       "                  comment: measured at 44 meter above surface\n",
       "                  units: m s-1\n",
       "                  standard_name: wind_speed_max\n",
       "                  coordinates: time\n",
       "                  long_name: Maximum of the wind speed in the measurement interval\n",
       "              unlimited dimensions: \n",
       "              current shape = (1780510,)\n",
       "              filling off), ('WindDir_Avg', <class 'netCDF4._netCDF4.Variable'>\n",
       "              float64 WindDir_Avg(time)\n",
       "                  comment: measured at 44 meter above surface\n",
       "                  units: degree w.r.t. true North\n",
       "                  standard_name: wind_from_direction\n",
       "                  coordinates: time\n",
       "                  long_name: average wind direction\n",
       "              unlimited dimensions: \n",
       "              current shape = (1780510,)\n",
       "              filling off), ('WindDir_Std', <class 'netCDF4._netCDF4.Variable'>\n",
       "              float64 WindDir_Std(time)\n",
       "                  comment: measured at 44 meter above surface\n",
       "                  units: degree w.r.t. true North\n",
       "                  standard_name: wind_from_direction_std\n",
       "                  coordinates: time\n",
       "                  long_name: standard deviation wind direction\n",
       "              unlimited dimensions: \n",
       "              current shape = (1780510,)\n",
       "              filling off)])"
      ]
     },
     "execution_count": 106,
     "metadata": {},
     "output_type": "execute_result"
    }
   ],
   "source": [
    "meteo_data.variables"
   ]
  },
  {
   "cell_type": "code",
   "execution_count": null,
   "metadata": {
    "collapsed": true
   },
   "outputs": [],
   "source": []
  },
  {
   "cell_type": "code",
   "execution_count": 234,
   "metadata": {},
   "outputs": [
    {
     "name": "stdout",
     "output_type": "stream",
     "text": [
      "processing RelHumidity_Avg 1780510\n"
     ]
    },
    {
     "name": "stderr",
     "output_type": "stream",
     "text": [
      "C:\\ProgramData\\Anaconda2\\envs\\py36\\lib\\site-packages\\ipykernel_launcher.py:12: RuntimeWarning: invalid value encountered in greater\n",
      "  if sys.path[0] == '':\n",
      "C:\\ProgramData\\Anaconda2\\envs\\py36\\lib\\site-packages\\ipykernel_launcher.py:17: RuntimeWarning: invalid value encountered in greater_equal\n"
     ]
    },
    {
     "name": "stdout",
     "output_type": "stream",
     "text": [
      "processing WindSpeed_Avg 1780510\n",
      "Wall time: 2.68 s\n"
     ]
    }
   ],
   "source": [
    "%%time\n",
    "d = {}\n",
    "d['time'] = timeDT\n",
    "d['lat']  = meteo_data.geospatial_lat_min\n",
    "d['lon'] = meteo_data.geospatial_lon_min\n",
    "\n",
    "wanted = [\"RelHumidity_Avg\", \"WindSpeed_Avg\"]\n",
    "\n",
    "df = pd.DataFrame()\n",
    "df['time'] = timeDT[:]\n",
    "\n",
    "for name in wanted:\n",
    "    array = meteo_data.variables[name][:]\n",
    "    print('processing',name,len(array))\n",
    "    idx = np.isnan(array)\n",
    "    new_array = np.array(array, dtype=object)\n",
    "    new_array[np.nonzero(idx)[0]] = None\n",
    "    array[array >= 1000] = None   \n",
    "    \n",
    "    #print(np.sum(np.isnan(array)))\n",
    "    d[name] = {\"data\": array.tolist(),\n",
    "               \"longname\": meteo_data.variables[name].long_name,\n",
    "               \"units\": meteo_data.variables[name].units}\n",
    "    df[name] = d[name]['data']\n",
    "\n",
    "# style dataframe\n",
    "df.set_index(df.time,inplace=True)\n",
    "df.index = pd.to_datetime(df.index)\n",
    "df = df.resample('h').mean()\n",
    "\n",
    "# put to dictionary\n",
    "times = []\n",
    "for i in range(len(df)):\n",
    "    times.append(datetime.datetime.strftime(df.index[i],'%Y-%m-%d %H:%M:%S'))\n",
    "d['time'] = times\n",
    "    \n",
    "for name in wanted:\n",
    "    array = df[name].values[:]\n",
    "    array[np.isnan(array)] = -999\n",
    "    d[name] = array.tolist()"
   ]
  },
  {
   "cell_type": "code",
   "execution_count": 209,
   "metadata": {
    "scrolled": false
   },
   "outputs": [
    {
     "data": {
      "image/png": "[encoded data removed]",
      "text/plain": [
       "<matplotlib.figure.Figure at 0xeb4d0b8>"
      ]
     },
     "metadata": {},
     "output_type": "display_data"
    }
   ],
   "source": [
    "plt.figure(figsize=(16,8))\n",
    "plt.subplot(211)\n",
    "plt.title('RelHumidity_Avg')\n",
    "plt.plot(df.index,df['RelHumidity_Avg'])\n",
    "\n",
    "plt.subplot(212)\n",
    "plt.title('WindSpeed_Avg')\n",
    "plt.plot(df.index,df['WindSpeed_Avg'])\n",
    "\n",
    "plt.show()"
   ]
  },
  {
   "cell_type": "code",
   "execution_count": 235,
   "metadata": {
    "collapsed": true
   },
   "outputs": [],
   "source": [
    "#### %time\n",
    "import json  \n",
    "with open('../static/meteo_data_test1.json', 'w') as f:\n",
    "    json.dump(d, f)"
   ]
  },
  {
   "cell_type": "code",
   "execution_count": 186,
   "metadata": {},
   "outputs": [
    {
     "name": "stdout",
     "output_type": "stream",
     "text": [
      "<_io.TextIOWrapper name='meteo_data_test1.json' mode='w' encoding='cp1252'>\n"
     ]
    }
   ],
   "source": []
  },
  {
   "cell_type": "code",
   "execution_count": 27,
   "metadata": {},
   "outputs": [
    {
     "name": "stdout",
     "output_type": "stream",
     "text": [
      "seconds since 1970-01-01 00:00:00 0:00\n"
     ]
    }
   ],
   "source": [
    "'''import wind data from opendap'''\n",
    "wind_url = \"http://opendap.tudelft.nl/thredds/dodsC/data2/zandmotor/meteohydro/wind/wind.nc\"\n",
    "wind_data = nc.Dataset(wind_url)\n",
    "lat = float(np.squeeze(wind_data.variables['lat'][:]))\n",
    "lon = float(np.squeeze(wind_data.variables['lon'][:]))\n",
    "direc = np.squeeze(wind_data.variables['direction'][:]).tolist()\n",
    "aspeed = np.squeeze( wind_data.variables['average_speed'][:]).tolist()\n",
    "\n",
    "time = wind_data.variables['time']\n",
    "\n",
    "timeDT = list(map(str, nc.num2date(time[:], units=time.units).tolist()))\n",
    "print (time.units)"
   ]
  },
  {
   "cell_type": "code",
   "execution_count": 72,
   "metadata": {},
   "outputs": [
    {
     "ename": "NameError",
     "evalue": "name 'lat' is not defined",
     "output_type": "error",
     "traceback": [
      "\u001b[1;31m---------------------------------------------------------------------------\u001b[0m",
      "\u001b[1;31mNameError\u001b[0m                                 Traceback (most recent call last)",
      "\u001b[1;32m<ipython-input-72-0c6151664fdc>\u001b[0m in \u001b[0;36m<module>\u001b[1;34m()\u001b[0m\n\u001b[0;32m      1\u001b[0m \u001b[1;32mimport\u001b[0m \u001b[0mjson\u001b[0m\u001b[1;33m\u001b[0m\u001b[0m\n\u001b[1;32m----> 2\u001b[1;33m \u001b[0mjsonlist\u001b[0m \u001b[1;33m=\u001b[0m \u001b[0mdict\u001b[0m\u001b[1;33m(\u001b[0m\u001b[1;33m{\u001b[0m\u001b[1;34m'lat'\u001b[0m\u001b[1;33m:\u001b[0m \u001b[0mlat\u001b[0m\u001b[1;33m,\u001b[0m \u001b[1;34m'lon'\u001b[0m\u001b[1;33m:\u001b[0m \u001b[0mlon\u001b[0m\u001b[1;33m,\u001b[0m \u001b[1;34m'direc'\u001b[0m\u001b[1;33m:\u001b[0m \u001b[0mdirec\u001b[0m\u001b[1;33m,\u001b[0m \u001b[1;34m'aspeed'\u001b[0m\u001b[1;33m:\u001b[0m \u001b[0maspeed\u001b[0m\u001b[1;33m,\u001b[0m \u001b[1;34m'time'\u001b[0m\u001b[1;33m:\u001b[0m \u001b[0mtimeDT\u001b[0m\u001b[1;33m}\u001b[0m\u001b[1;33m)\u001b[0m\u001b[1;33m\u001b[0m\u001b[0m\n\u001b[0m\u001b[0;32m      3\u001b[0m \u001b[1;32mwith\u001b[0m \u001b[0mopen\u001b[0m\u001b[1;33m(\u001b[0m\u001b[1;34m'wind_data.json'\u001b[0m\u001b[1;33m,\u001b[0m \u001b[1;34m'w'\u001b[0m\u001b[1;33m)\u001b[0m \u001b[1;32mas\u001b[0m \u001b[0mf\u001b[0m\u001b[1;33m:\u001b[0m\u001b[1;33m\u001b[0m\u001b[0m\n\u001b[0;32m      4\u001b[0m     \u001b[0mjson\u001b[0m\u001b[1;33m.\u001b[0m\u001b[0mdump\u001b[0m\u001b[1;33m(\u001b[0m\u001b[0mjsonlist\u001b[0m\u001b[1;33m,\u001b[0m \u001b[0mf\u001b[0m\u001b[1;33m,\u001b[0m \u001b[0mcls\u001b[0m\u001b[1;33m=\u001b[0m\u001b[0mjson\u001b[0m\u001b[1;33m.\u001b[0m\u001b[0mJSONEncoder\u001b[0m\u001b[1;33m)\u001b[0m\u001b[1;33m\u001b[0m\u001b[0m\n",
      "\u001b[1;31mNameError\u001b[0m: name 'lat' is not defined"
     ]
    }
   ],
   "source": [
    "import json\n",
    "jsonlist = dict({'lat': lat, 'lon': lon, 'direc': direc, 'aspeed': aspeed, 'time': timeDT})\n",
    "with open('wind_data.json', 'w') as f:\n",
    "    json.dump(jsonlist, f)"
   ]
  },
  {
   "cell_type": "code",
   "execution_count": null,
   "metadata": {
    "collapsed": true
   },
   "outputs": [],
   "source": []
  }
 ],
 "metadata": {
  "kernelspec": {
   "display_name": "Python 3",
   "language": "python",
   "name": "python3"
  },
  "language_info": {
   "codemirror_mode": {
    "name": "ipython",
    "version": 3
   },
   "file_extension": ".py",
   "mimetype": "text/x-python",
   "name": "python",
   "nbconvert_exporter": "python",
   "pygments_lexer": "ipython3",
   "version": "3.6.3"
  }
 },
 "nbformat": 4,
 "nbformat_minor": 2
}
