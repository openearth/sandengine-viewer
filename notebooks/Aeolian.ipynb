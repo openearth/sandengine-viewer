{
 "cells": [
  {
   "cell_type": "code",
   "execution_count": 4,
   "metadata": {
    "collapsed": true
   },
   "outputs": [],
   "source": [
    "import numpy as np\n",
    "import matplotlib.pyplot as plt\n",
    "%matplotlib inline\n",
    "\n",
    "import netCDF4 as nc\n",
    "import geojson\n",
    "import json\n",
    "import urllib3"
   ]
  },
  {
   "cell_type": "code",
   "execution_count": 8,
   "metadata": {},
   "outputs": [
    {
     "data": {
      "text/plain": [
       "<urllib3.response.HTTPResponse at 0x79c7a90>"
      ]
     },
     "execution_count": 8,
     "metadata": {},
     "output_type": "execute_result"
    }
   ],
   "source": [
    "http = urllib3.PoolManager()\n",
    "r = http.request('GET',url_cat)"
   ]
  },
  {
   "cell_type": "code",
   "execution_count": 6,
   "metadata": {
    "scrolled": false
   },
   "outputs": [
    {
     "ename": "TypeError",
     "evalue": "'module' object is not callable",
     "output_type": "error",
     "traceback": [
      "\u001b[1;31m---------------------------------------------------------------------------\u001b[0m",
      "\u001b[1;31mTypeError\u001b[0m                                 Traceback (most recent call last)",
      "\u001b[1;32m<ipython-input-6-93988ff95658>\u001b[0m in \u001b[0;36m<module>\u001b[1;34m()\u001b[0m\n\u001b[0;32m      1\u001b[0m \u001b[0murl_cat\u001b[0m \u001b[1;33m=\u001b[0m \u001b[1;34mr'http://opendap.tudelft.nl/thredds/catalog/data2/zandmotor/aeolian/megapex/catalog.html'\u001b[0m\u001b[1;33m\u001b[0m\u001b[0m\n\u001b[1;32m----> 2\u001b[1;33m \u001b[0murl_cat_source\u001b[0m \u001b[1;33m=\u001b[0m \u001b[0mstr\u001b[0m\u001b[1;33m(\u001b[0m\u001b[0murllib3\u001b[0m\u001b[1;33m.\u001b[0m\u001b[0mrequest\u001b[0m\u001b[1;33m(\u001b[0m\u001b[0murl_cat\u001b[0m\u001b[1;33m)\u001b[0m\u001b[1;33m.\u001b[0m\u001b[0mread\u001b[0m\u001b[1;33m(\u001b[0m\u001b[1;33m)\u001b[0m\u001b[1;33m)\u001b[0m\u001b[1;33m\u001b[0m\u001b[0m\n\u001b[0m\u001b[0;32m      3\u001b[0m \u001b[1;33m\u001b[0m\u001b[0m\n\u001b[0;32m      4\u001b[0m \u001b[0mfilenames\u001b[0m \u001b[1;33m=\u001b[0m \u001b[1;33m[\u001b[0m\u001b[1;33m]\u001b[0m\u001b[1;33m\u001b[0m\u001b[0m\n\u001b[0;32m      5\u001b[0m \u001b[0murl_cat_source_marker\u001b[0m \u001b[1;33m=\u001b[0m \u001b[1;34m\"<a href=\\'catalog.html?dataset=[0-9,a-z,A-Z,_,/,.]*.nc\\'><tt>\"\u001b[0m\u001b[1;33m\u001b[0m\u001b[0m\n",
      "\u001b[1;31mTypeError\u001b[0m: 'module' object is not callable"
     ]
    }
   ],
   "source": [
    "url_cat = r'http://opendap.tudelft.nl/thredds/catalog/data2/zandmotor/aeolian/megapex/catalog.html'\n",
    "url_cat_source = str(urllib3.request(url_cat).read())\n",
    "\n",
    "filenames = []\n",
    "url_cat_source_marker = \"<a href=\\'catalog.html?dataset=[0-9,a-z,A-Z,_,/,.]*.nc\\'><tt>\"\n",
    "for line in re.findall(url_cat_source_marker, url_cat_source):\n",
    "    filenames.append(line[:-6].split(url_cat)[1])"
   ]
  },
  {
   "cell_type": "code",
   "execution_count": 135,
   "metadata": {
    "collapsed": true
   },
   "outputs": [],
   "source": [
    "\n",
    "filenames = []\n",
    "for i in range(len(url_cat_source.split('<tt>'))):\n",
    "    if ('.nc' in url_cat_source.split('<tt>')[i]) & ('deployment' in url_cat_source.split('<tt>')[i]):\n",
    "        filenames.append(url_cat_source.split('<tt>')[i].split('<a')[-1].split('/')[-1].replace(\"'>\",''))\n",
    "    \n",
    "filenames2 = []\n",
    "for i in range(len(filenames)):\n",
    "    if ('dn' in filenames[i]) & ('_merged' not in filenames[i]):\n",
    "        filenames2.append(filenames[i])"
   ]
  },
  {
   "cell_type": "code",
   "execution_count": 136,
   "metadata": {},
   "outputs": [
    {
     "name": "stdout",
     "output_type": "stream",
     "text": [
      "[52.04747009277344, 52.046714782714844, 52.04684066772461, 52.04713821411133] [4.179207801818848, 4.177883625030518, 4.178102493286133, 4.1786298751831055]\n"
     ]
    }
   ],
   "source": [
    "# get location of deployment\n",
    "lat = dataset['lat'][:].tolist() # contains 4; per location get particles\n",
    "lon = dataset['lon'][:].tolist()\n",
    "print(lat, lon)\n",
    "time = nc.num2date(dataset['time'][:],dataset['time'].units)\n",
    "timeDT = list(map(str, nc.num2date(dataset['time'][:], units=dataset['time'].units).tolist()))"
   ]
  },
  {
   "cell_type": "code",
   "execution_count": 20,
   "metadata": {
    "collapsed": true
   },
   "outputs": [],
   "source": [
    "# oplichten"
   ]
  },
  {
   "cell_type": "code",
   "execution_count": 167,
   "metadata": {
    "collapsed": true
   },
   "outputs": [],
   "source": [
    "# put to geojson\n",
    "features = []\n",
    "for k in range(len(filenames2)):\n",
    "    url = r'http://opendap.tudelft.nl/thredds/dodsC/data2/zandmotor/aeolian/megapex/' + filenames2[k]\n",
    "    dataset = nc.Dataset(url)\n",
    "    dataset.set_auto_mask(False)\n",
    "    \n",
    "    particleCounts = {}\n",
    "    particleHeight = {}\n",
    "\n",
    "    for i in range(np.shape(dataset['particle_count_1'])[1]):\n",
    "\n",
    "        lat = dataset['lat'][i].tolist()\n",
    "        lon = dataset['lon'][i].tolist()\n",
    "        properties = {}\n",
    "        heightvalues = []\n",
    "        for k in range(6):\n",
    "            name = 'particle_count_' + str(k) \n",
    "            if  name in dataset.variables:\n",
    "                particle_count = dataset['particle_count_' + str(k)][:,i]\n",
    "                particle_count[particle_count < 0] = 0\n",
    "                particle_count = particle_count.tolist()\n",
    "                height = dataset['particle_count_' + str(k)].height\n",
    "            else: # add no data values\n",
    "                particle_count = [-999]\n",
    "                height = -999\n",
    "        \n",
    "            properties[name] = particle_count\n",
    "            heightvalues.append(height)\n",
    "        \n",
    "        properties['feature_ID'] = deploymentID\n",
    "        properties['url'] = url\n",
    "        properties['time'] = timeDT\n",
    "        properties['heightvalues'] = heightvalues\n",
    "\n",
    "        feature = geojson.Feature(geometry=geojson.Point(coordinates=[lon, lat]), properties=properties)\n",
    "\n",
    "        features.append(feature)"
   ]
  },
  {
   "cell_type": "code",
   "execution_count": 168,
   "metadata": {},
   "outputs": [
    {
     "name": "stderr",
     "output_type": "stream",
     "text": [
      "IOPub data rate exceeded.\n",
      "The notebook server will temporarily stop sending output\n",
      "to the client in order to avoid crashing it.\n",
      "To change this limit, set the config variable\n",
      "`--NotebookApp.iopub_data_rate_limit`.\n"
     ]
    }
   ],
   "source": [
    "features"
   ]
  },
  {
   "cell_type": "code",
   "execution_count": 170,
   "metadata": {
    "collapsed": true
   },
   "outputs": [],
   "source": [
    "featurecollection = geojson.FeatureCollection(features)\n",
    "\n",
    "with open(r'../static/aeolian_data.geojson', 'w') as f:\n",
    "    json.dump(featurecollection, f)"
   ]
  },
  {
   "cell_type": "code",
   "execution_count": 6,
   "metadata": {},
   "outputs": [
    {
     "name": "stdout",
     "output_type": "stream",
     "text": [
      "[0.029999999999999999, 0.10000000000000001, 0.25, 0.40000000000000002]\n"
     ]
    }
   ],
   "source": [
    "# get timeseries of particle count\n",
    "particle_count_1 = np.sum(dataset['particle_count_1'][:],1)\n",
    "particle_count_1[particle_count_1 < 0] = 0\n",
    "\n",
    "particle_count_2 = np.sum(dataset['particle_count_2'][:],1)\n",
    "particle_count_2[particle_count_2 < 0] = 0\n",
    "\n",
    "particle_count_3 = np.sum(dataset['particle_count_3'][:],1)\n",
    "particle_count_3[particle_count_3 < 0] = 0\n",
    "\n",
    "particle_count_4 = np.sum(dataset['particle_count_4'][:],1)\n",
    "particle_count_4[particle_count_4 < 0] = 0\n",
    "\n",
    "heightvalues = [dataset['particle_count_1'].height, dataset['particle_count_2'].height, dataset['particle_count_3'].height, dataset['particle_count_4'].height] # [m]\n",
    "print(heightvalues)\n"
   ]
  },
  {
   "cell_type": "code",
   "execution_count": 180,
   "metadata": {},
   "outputs": [
    {
     "data": {
      "text/plain": [
       "Text(0.5,1,'Particle count at height 0.03 m')"
      ]
     },
     "execution_count": 180,
     "metadata": {},
     "output_type": "execute_result"
    },
    {
     "data": {
      "image/png": "[encoded data removed]",
      "text/plain": [
       "<matplotlib.figure.Figure at 0x9111a20>"
      ]
     },
     "metadata": {},
     "output_type": "display_data"
    }
   ],
   "source": [
    "plt.figure(figsize=(16,4))\n",
    "plt.plot(time, particle_count_1)\n",
    "plt.ylabel('Particles')\n",
    "plt.xlim(time[0],time[-1])\n",
    "plt.ylim(0,np.max(particle_count_1))\n",
    "plt.title('%s %.2f %s' %('Particle count at height', heightvalues[0], 'm'))"
   ]
  },
  {
   "cell_type": "code",
   "execution_count": 191,
   "metadata": {
    "collapsed": true,
    "scrolled": true
   },
   "outputs": [],
   "source": []
  },
  {
   "cell_type": "code",
   "execution_count": null,
   "metadata": {
    "collapsed": true
   },
   "outputs": [],
   "source": [
    "# url = r\"http://opendap.tudelft.nl/thredds/dodsC/data2/zandmotor/meteohydro/meteo/meteo/meteo.nc\"\n",
    "# # url = \"http://opendap.tudelft.nl/thredds/dodsC/data2/zandmotor/meteohydro/wind/wind.nc\"\n",
    "# data2 = nc.Dataset(url)\n",
    "# print(data2)"
   ]
  }
 ],
 "metadata": {
  "kernelspec": {
   "display_name": "Python 2",
   "language": "python",
   "name": "python2"
  },
  "language_info": {
   "codemirror_mode": {
    "name": "ipython",
    "version": 2
   },
   "file_extension": ".py",
   "mimetype": "text/x-python",
   "name": "python",
   "nbconvert_exporter": "python",
   "pygments_lexer": "ipython2",
   "version": "2.7.13"
  }
 },
 "nbformat": 4,
 "nbformat_minor": 2
}
