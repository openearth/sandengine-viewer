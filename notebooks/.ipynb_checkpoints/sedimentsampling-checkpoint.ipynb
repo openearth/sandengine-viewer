{
 "cells": [
  {
   "cell_type": "code",
   "execution_count": 5,
   "metadata": {},
   "outputs": [],
   "source": [
    "import numpy as np\n",
    "import matplotlib.pyplot as plt\n",
    "%matplotlib inline\n",
    "\n",
    "import netCDF4 as nc\n",
    "import geojson\n",
    "import json\n",
    "import urllib\n",
    "import os, re"
   ]
  },
  {
   "cell_type": "code",
   "execution_count": 34,
   "metadata": {},
   "outputs": [],
   "source": [
    "url_base = 'http://opendap.tudelft.nl/thredds/dodsC/data2/zandmotor/morphology/sediment_composition/'\n",
    "urls = ['sedimentsampling_sandmotor_oct2010.nc',\n",
    "        'sedimentsampling_sandmotor_aug2012.nc',\n",
    "        'sedimentsampling_nemo_feb2013.nc',\n",
    "        'sedimentsampling_nemo_feb2013_malvern.nc',\n",
    "        'sedimentsampling_sandmotor_oct2013.nc',\n",
    "        'sedimentsampling_nemo_feb2014.nc',\n",
    "        'sedimentsampling_nemo_oct2014.nc',\n",
    "        'sedimentsampling_sandmotor_aug2015.nc']"
   ]
  },
  {
   "cell_type": "code",
   "execution_count": 35,
   "metadata": {},
   "outputs": [
    {
     "data": {
      "text/plain": [
       "['http://opendap.tudelft.nl/thredds/dodsC/data2/zandmotor/morphology/sedimentsampling_sandmotor_oct2010.nc',\n",
       " 'http://opendap.tudelft.nl/thredds/dodsC/data2/zandmotor/morphology/sedimentsampling_sandmotor_aug2012.nc',\n",
       " 'http://opendap.tudelft.nl/thredds/dodsC/data2/zandmotor/morphology/sedimentsampling_nemo_feb2013.nc',\n",
       " 'http://opendap.tudelft.nl/thredds/dodsC/data2/zandmotor/morphology/sedimentsampling_nemo_feb2013_malvern.nc',\n",
       " 'http://opendap.tudelft.nl/thredds/dodsC/data2/zandmotor/morphology/sedimentsampling_sandmotor_oct2013.nc',\n",
       " 'http://opendap.tudelft.nl/thredds/dodsC/data2/zandmotor/morphology/sedimentsampling_nemo_feb2014.nc',\n",
       " 'http://opendap.tudelft.nl/thredds/dodsC/data2/zandmotor/morphology/sedimentsampling_nemo_oct2014.nc',\n",
       " 'http://opendap.tudelft.nl/thredds/dodsC/data2/zandmotor/morphology/sedimentsampling_sandmotor_aug2015.nc']"
      ]
     },
     "execution_count": 35,
     "metadata": {},
     "output_type": "execute_result"
    }
   ],
   "source": [
    "#url_cat = r'http://opendap.tudelft.nl/thredds/dodsC/data2/zandmotor/morphology/catalog.html'\n",
    "#url_cat_source = str(urllib.request.urlopen(url_cat).read())\n",
    "\n",
    "#filenames = []\n",
    "#for i in range(len(url_cat_source.split('<tt>'))):\n",
    "#    if ('.nc' in url_cat_source.split('<tt>')[i]) & ('deployment' in url_cat_source.split('<tt>')[i]):\n",
    "#        filenames.append(url_cat_source.split('<tt>')[i].split('<a')[-1].split('/')[-1].replace(\"'>\",''))\n",
    "    \n",
    "#filenames2 = []\n",
    "#for i in range(len(filenames)):\n",
    "#    if ('dn' in filenames[i]) & ('_merged' not in filenames[i]):\n",
    "#        filenames2.append(filenames[i])\n"
   ]
  },
  {
   "cell_type": "code",
   "execution_count": 249,
   "metadata": {},
   "outputs": [
    {
     "name": "stderr",
     "output_type": "stream",
     "text": [
      "/home/giosans/.virtualenvs/cv/lib/python3.5/site-packages/ipykernel_launcher.py:26: RuntimeWarning: invalid value encountered in greater\n"
     ]
    }
   ],
   "source": [
    "urlpaths = [os.path.join(url_base, u) for u in urls ]\n",
    "\n",
    "features = []\n",
    "features_pt = []\n",
    "for url in urlpaths:\n",
    "    dataset = nc.Dataset(url)\n",
    "    # get location of sampling\n",
    "    lat = dataset['lat'][:].tolist()\n",
    "    lon = dataset['lon'][:].tolist()\n",
    "    # print(lat, lon)\n",
    "    time = nc.num2date(dataset['time'][:],'seconds since 1970-01-01') # definition in the nc is wrong\n",
    "    timeDT = list(map(str, nc.num2date(dataset['time'][:], units='seconds since 1970-01-01').tolist()))\n",
    "    \n",
    "    # build geojson\n",
    "    properties = {}\n",
    "    depthvalues = []\n",
    "    name = ['D10','D30','D50','D60','D90']\n",
    "    #nameS = ['Sfines','Smedium','Scoarse']\n",
    "    nameS = []\n",
    "    dictsed_np = dict()\n",
    "    dictsed = dict()\n",
    "    for k in name+nameS:\n",
    "        dictsed_np[k] = dataset[k][:]\n",
    "        dictsed_np[k][np.isnan(dictsed_np[k])] = None #'NaN' #-999 # nodata\n",
    "        dictsed[k] = dictsed_np[k].tolist()\n",
    "    dictsed_np['depth'] = dataset['depth'][:]\n",
    "    dictsed_np['depth'][np.isnan(dictsed_np['depth'])] = None #'NaN' #-999 # nodata\n",
    "    dictsed['depth'] = dictsed_np['depth'].tolist()\n",
    "\n",
    "    #properties = dictsed\n",
    "\n",
    "    #properties['depth'] = depthvalues\n",
    "\n",
    "    for ff in range(len(timeDT)):\n",
    "        for kk in list(dictsed.keys()):\n",
    "            properties[kk] = dictsed[kk][ff]\n",
    "        properties['id'] = nc.chartostring(dataset['label'][ff],encoding='utf-8').tolist()\n",
    "        properties['url'] = url\n",
    "        properties['time'] = timeDT[ff]\n",
    "\n",
    "        feature_pt = geojson.Feature(geometry=geojson.Point(coordinates=[lon[ff], lat[ff]]), properties=properties)\n",
    "        features.append(feature_pt)\n",
    "    #features.append(features_pt)\n"
   ]
  },
  {
   "cell_type": "code",
   "execution_count": 250,
   "metadata": {},
   "outputs": [],
   "source": [
    "featurecollection = geojson.FeatureCollection(features)\n",
    "\n",
    "with open(r'../static/sediment_data.geojson', 'w') as f:\n",
    "    json.dump(featurecollection, f)"
   ]
  },
  {
   "cell_type": "code",
   "execution_count": 251,
   "metadata": {},
   "outputs": [
    {
     "data": {
      "text/plain": [
       "{\"geometry\": {\"coordinates\": [4.216229588048768, 52.09187568004734], \"type\": \"Point\"}, \"properties\": {\"D10\": 124.043333333333, \"D30\": 172.2416666666665, \"D50\": 220.44, \"D60\": 324.3183333333335, \"D90\": 428.196666666667, \"depth\": -11.410415, \"id\": \"11.5_344 \", \"time\": \"2015-08-24 00:00:00\", \"url\": \"http://opendap.tudelft.nl/thredds/dodsC/data2/zandmotor/morphology/sediment_composition/sedimentsampling_sandmotor_aug2015.nc\"}, \"type\": \"Feature\"}"
      ]
     },
     "execution_count": 251,
     "metadata": {},
     "output_type": "execute_result"
    }
   ],
   "source": [
    "feature_pt"
   ]
  },
  {
   "cell_type": "code",
   "execution_count": 247,
   "metadata": {},
   "outputs": [
    {
     "data": {
      "text/plain": [
       "{'D10': 124.043333333333,\n",
       " 'D30': 172.2416666666665,\n",
       " 'D50': 220.44,\n",
       " 'D60': 324.3183333333335,\n",
       " 'D90': 428.196666666667,\n",
       " 'depth': -11.410415,\n",
       " 'id': '11.5_344 ',\n",
       " 'time': '2015-08-24 00:00:00',\n",
       " 'url': 'http://opendap.tudelft.nl/thredds/dodsC/data2/zandmotor/morphology/sediment_composition/sedimentsampling_sandmotor_aug2015.nc'}"
      ]
     },
     "execution_count": 247,
     "metadata": {},
     "output_type": "execute_result"
    }
   ],
   "source": [
    "properties"
   ]
  },
  {
   "cell_type": "code",
   "execution_count": null,
   "metadata": {},
   "outputs": [],
   "source": []
  },
  {
   "cell_type": "code",
   "execution_count": null,
   "metadata": {},
   "outputs": [],
   "source": []
  },
  {
   "cell_type": "code",
   "execution_count": null,
   "metadata": {},
   "outputs": [],
   "source": []
  }
 ],
 "metadata": {
  "kernelspec": {
   "display_name": "Python 3",
   "language": "python",
   "name": "python3"
  },
  "language_info": {
   "codemirror_mode": {
    "name": "ipython",
    "version": 3
   },
   "file_extension": ".py",
   "mimetype": "text/x-python",
   "name": "python",
   "nbconvert_exporter": "python",
   "pygments_lexer": "ipython3",
   "version": "3.5.2"
  }
 },
 "nbformat": 4,
 "nbformat_minor": 1
}
