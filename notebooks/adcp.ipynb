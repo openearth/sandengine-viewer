{
 "cells": [
  {
   "cell_type": "code",
   "execution_count": 1,
   "metadata": {},
   "outputs": [
    {
     "name": "stderr",
     "output_type": "stream",
     "text": [
      "C:\\Anaconda\\envs\\py36\\lib\\site-packages\\cmocean\\tools.py:76: MatplotlibDeprecationWarning: The is_string_like function was deprecated in version 2.1.\n",
      "  if not mpl.cbook.is_string_like(rgbin[0]):\n"
     ]
    }
   ],
   "source": [
    "import netCDF4\n",
    "import numpy as np\n",
    "import matplotlib.pyplot as plt\n",
    "import pandas as pd\n",
    "import scipy.interpolate\n",
    "import cmocean.cm\n",
    "import matplotlib.colors\n",
    "import skimage.color\n",
    "import datetime\n",
    "import geojson\n",
    "\n",
    "%matplotlib inline"
   ]
  },
  {
   "cell_type": "code",
   "execution_count": 2,
   "metadata": {},
   "outputs": [],
   "source": [
    "url = 'http://opendap.tudelft.nl/thredds/dodsC/data2/zandmotor/meteohydro/hydrodynamics/adcp/adcp-f.nc'"
   ]
  },
  {
   "cell_type": "code",
   "execution_count": 3,
   "metadata": {},
   "outputs": [
    {
     "data": {
      "text/plain": [
       "odict_keys(['x', 'y', 'time', 'Z', 'east_velocity', 'north_velocity', 'velocity', 'velocity_direction', 'error_velocity', 'crs', 'lat', 'lon', 'number_of_depths', 'waterdepth'])"
      ]
     },
     "execution_count": 3,
     "metadata": {},
     "output_type": "execute_result"
    }
   ],
   "source": [
    "ds = netCDF4.Dataset(url)\n",
    "\n",
    "ds.variables.keys()"
   ]
  },
  {
   "cell_type": "code",
   "execution_count": 4,
   "metadata": {},
   "outputs": [
    {
     "data": {
      "text/plain": [
       "{\"geometry\": {\"coordinates\": [4.217663764953613, 52.080467224121094], \"type\": \"Point\"}, \"id\": \"adcp-f\", \"properties\": {}, \"type\": \"Feature\"}"
      ]
     },
     "execution_count": 4,
     "metadata": {},
     "output_type": "execute_result"
    }
   ],
   "source": [
    "point = geojson.Point(coordinates=[\n",
    "    float(np.squeeze(ds.variables['lon'][:])), \n",
    "    float(np.squeeze(ds.variables['lat'][:]))\n",
    "])\n",
    "feature = geojson.Feature(id='adcp-f', geometry=point)\n",
    "feature"
   ]
  },
  {
   "cell_type": "code",
   "execution_count": 5,
   "metadata": {},
   "outputs": [],
   "source": [
    "# time\n",
    "times = netCDF4.num2date(ds.variables['time'][:], ds.variables['time'].units)\n",
    "\n",
    "# veclocities\n",
    "U = np.squeeze(np.ma.masked_equal(ds.variables['north_velocity'][:], 9.96920997e+36).astype('double'))\n",
    "V = np.squeeze(np.ma.masked_equal(ds.variables['east_velocity'][:], 9.96920997e+36).astype('double'))\n",
    "\n",
    "# waterdepth\n",
    "ssh = np.squeeze(np.ma.masked_equal(ds.variables['waterdepth'][:], 9.96920997e+36).astype('double'))\n",
    "\n",
    "# convert to angle, magnitude\n",
    "angle = np.arctan2(V, U)\n",
    "mag = np.ma.sqrt(U**2 + V**2)\n",
    "\n",
    "# height of measurement\n",
    "Z = np.squeeze(np.ma.masked_equal(ds.variables['Z'][:], 9.96920997e+36).astype('double'))\n",
    "\n",
    "# Create Time matrix\n",
    "T = np.repeat(ds.variables['time'][:][:, np.newaxis], len(ds.dimensions['bins']), axis=1)"
   ]
  },
  {
   "cell_type": "code",
   "execution_count": null,
   "metadata": {},
   "outputs": [],
   "source": []
  },
  {
   "cell_type": "code",
   "execution_count": 6,
   "metadata": {},
   "outputs": [],
   "source": [
    "# interpolate accross a consistent Z grid\n",
    "z_new = np.linspace(Z.min(), Z.max(), num=100)\n",
    "interps = []\n",
    "N = mag.shape[0]\n",
    "for i in range(N):\n",
    "    values = np.c_[\n",
    "        mag[i].filled(np.nan), \n",
    "        U[i].filled(np.nan), \n",
    "        V[i].filled(np.nan)\n",
    "    ]\n",
    "    f = scipy.interpolate.interp1d(\n",
    "        Z[i], \n",
    "        values.T, \n",
    "        bounds_error=False\n",
    "    )\n",
    "    interps.append(\n",
    "        f(z_new).T\n",
    "    )"
   ]
  },
  {
   "cell_type": "code",
   "execution_count": 7,
   "metadata": {},
   "outputs": [],
   "source": [
    "# lookup date differences\n",
    "diffs = np.array([x.total_seconds() for x in np.diff(times)])\n",
    "# compute split points (more than 20min)\n",
    "splits = np.where(diffs > 1200)[0]\n",
    "times_splitted = np.split(times, splits)\n",
    "mag_interp = np.ma.masked_invalid(interps)[:, :, 0].T\n",
    "mag_interp_anomaly = mag_interp - mag_interp.mean(axis=0)\n",
    "U_interp = np.ma.masked_invalid(interps)[:, :, 1].T\n",
    "V_interp = np.ma.masked_invalid(interps)[:, :, 2].T\n"
   ]
  },
  {
   "cell_type": "code",
   "execution_count": 8,
   "metadata": {},
   "outputs": [],
   "source": [
    "uvmax = np.ma.abs([U_interp.min(), U_interp.max(), V_interp.min(), V_interp.max()]).max()\n",
    "mag_anomaly_max = np.ma.abs(mag_interp_anomaly).max()"
   ]
  },
  {
   "cell_type": "code",
   "execution_count": 40,
   "metadata": {},
   "outputs": [
    {
     "name": "stdout",
     "output_type": "stream",
     "text": [
      "(196782,)\n"
     ]
    }
   ],
   "source": [
    "print(np.shape(ssh))\n"
   ]
  },
  {
   "cell_type": "code",
   "execution_count": 43,
   "metadata": {},
   "outputs": [],
   "source": [
    "import json\n",
    "N = 1000\n",
    "jsonlist = dict({'times': list(matplotlib.dates.date2num(times[:N])), 'waterdepth': list(ssh.data[:N])})\n",
    "data = dict({})\n",
    "for time in range(len(times[:N])):\n",
    "    data[time] = list(mag_interp_anomaly.data[:, time])\n",
    "    \n",
    "jsonlist['data'] = data\n",
    "# print(jsonlist)\n",
    "with open('adcp_data_1000.json', 'w') as f:\n",
    "    json.dump(jsonlist, f)"
   ]
  },
  {
   "cell_type": "code",
   "execution_count": 9,
   "metadata": {},
   "outputs": [
    {
     "data": {
      "image/png": "[encoded data removed]",
      "text/plain": [
       "<matplotlib.figure.Figure at 0x1ca06668>"
      ]
     },
     "metadata": {},
     "output_type": "display_data"
    }
   ],
   "source": [
    "fig, ax = plt.subplots(figsize=(13, 6))\n",
    "N_ssh = matplotlib.colors.Normalize(ssh.min(), ssh.max())\n",
    "ax.plot([time for time in times], ssh, 'k-')\n",
    "aspect = ax.get_aspect()\n",
    "# or use    mag_interp     vmax=mag_interp.max(),    cmap=cmocean.cm.speed\n",
    "ax.set_xlim(\n",
    "    matplotlib.dates.date2num(times[1000]), \n",
    "    matplotlib.dates.date2num(times[2000])\n",
    ")\n",
    "ax.set_ylim(z_new[0], 3)\n",
    "\n",
    "pc = ax.pcolormesh(\n",
    "    matplotlib.dates.date2num(times[:43900]), \n",
    "    z_new, \n",
    "    mag_interp_anomaly[:, :43900][:-1, :-1],\n",
    "    vmin=-mag_anomaly_max*0.8,\n",
    "    vmax=mag_anomaly_max*0.8,\n",
    "    cmap=cmocean.cm.balance\n",
    ")\n",
    "plt.colorbar(pc, ax=ax, label='Velocity anomalies [m/s]')\n",
    "ax.set_aspect(aspect)\n"
   ]
  },
  {
   "cell_type": "code",
   "execution_count": 10,
   "metadata": {},
   "outputs": [],
   "source": [
    "begin, end = times[0], times[-1]"
   ]
  },
  {
   "cell_type": "code",
   "execution_count": 13,
   "metadata": {},
   "outputs": [],
   "source": [
    "months = pd.date_range(datetime.datetime(begin.year, begin.month, 1), end, freq='1MS' ) "
   ]
  },
  {
   "cell_type": "code",
   "execution_count": 14,
   "metadata": {},
   "outputs": [],
   "source": [
    "for month in months:\n",
    "    s = list(map(lambda x: (x.year, x.month) == (month.year, month.month), times))\n",
    "    if not any(s):\n",
    "         continue\n",
    "    plt.imsave(\n",
    "        'mag_%06d.png' % (month.year * 100 + month.month, ), \n",
    "        mag_interp[:, s], \n",
    "        cmap=cmocean.cm.speed, \n",
    "        vmin=0,\n",
    "        vmax=1.5,\n",
    "        origin='lower'\n",
    "    )\n",
    "    plt.imsave(\n",
    "        'mag_anomaly_%06d.png' % (month.year * 100 + month.month, ), \n",
    "        mag_interp_anomaly[:, s], \n",
    "        cmap=cmocean.cm.balance, \n",
    "        vmin=-0.8*mag_anomaly_max, \n",
    "        vmax=0.8*mag_anomaly_max, \n",
    "        origin='lower'\n",
    "    )\n",
    "    plt.imsave(\n",
    "        'uv_%06d.png' % (month.year * 100 + month.month, ), \n",
    "        np.ma.arctan2(V_interp[:, s], U_interp[:, s]), \n",
    "        cmap=cmocean.cm.phase, \n",
    "        vmin=-np.pi, \n",
    "        vmax=np.pi, \n",
    "        origin='lower'\n",
    "    )\n",
    "    "
   ]
  }
 ],
 "metadata": {
  "kernelspec": {
   "display_name": "Python 3",
   "language": "python",
   "name": "python3"
  },
  "language_info": {
   "codemirror_mode": {
    "name": "ipython",
    "version": 3
   },
   "file_extension": ".py",
   "mimetype": "text/x-python",
   "name": "python",
   "nbconvert_exporter": "python",
   "pygments_lexer": "ipython3",
   "version": "3.6.3"
  }
 },
 "nbformat": 4,
 "nbformat_minor": 2
}
