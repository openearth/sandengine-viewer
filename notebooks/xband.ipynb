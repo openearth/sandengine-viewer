{
 "cells": [
  {
   "cell_type": "code",
   "execution_count": 1,
   "metadata": {},
   "outputs": [],
   "source": [
    "import pathlib\n",
    "\n",
    "import cmocean.cm\n",
    "import netCDF4\n",
    "import numpy as np\n",
    "import matplotlib.pyplot as plt\n",
    "import matplotlib.colors\n",
    "import scipy.interpolate\n",
    "\n",
    "%matplotlib inline"
   ]
  },
  {
   "cell_type": "code",
   "execution_count": 2,
   "metadata": {},
   "outputs": [],
   "source": [
    "url = pathlib.Path('~/Downloads/xband_resolution_200m_2016.nc').expanduser()"
   ]
  },
  {
   "cell_type": "code",
   "execution_count": 3,
   "metadata": {},
   "outputs": [],
   "source": [
    "ds = netCDF4.Dataset(str(url))"
   ]
  },
  {
   "cell_type": "code",
   "execution_count": 4,
   "metadata": {},
   "outputs": [],
   "source": [
    "lat = ds.variables['Lat'][0]\n",
    "lon = ds.variables['Lon'][0]\n",
    "times = netCDF4.num2date(ds.variables['Time'][:], ds.variables['Time'].units)"
   ]
  },
  {
   "cell_type": "code",
   "execution_count": null,
   "metadata": {},
   "outputs": [],
   "source": []
  },
  {
   "cell_type": "code",
   "execution_count": null,
   "metadata": {},
   "outputs": [],
   "source": []
  },
  {
   "cell_type": "code",
   "execution_count": 64,
   "metadata": {},
   "outputs": [],
   "source": [
    "def resample(arr, scale=1, fill_value=0.0, k=2):\n",
    "    \n",
    "    mask = hasattr(arr, 'mask')\n",
    "    rows, cols = arr.shape\n",
    "    u = np.linspace(0, rows, num=rows)\n",
    "    v = np.linspace(0, cols, num=cols)\n",
    "    if k == 0:\n",
    "        Y, X = np.meshgrid(v, u)\n",
    "        Z = scipy.interpolate.NearestNDInterpolator(np.c_[X.ravel(), Y.ravel()], arr.filled().ravel())\n",
    "    else:\n",
    "        Z = scipy.interpolate.RectBivariateSpline(x=u, y=v, z=arr.filled(0), kx=k, ky=k)\n",
    "    if mask:\n",
    "        if k == 0:\n",
    "            Z_mask = scipy.interpolate.NearestNDInterpolator(np.c_[X.ravel(), Y.ravel()], arr.mask.ravel())\n",
    "        else:\n",
    "            Z_mask = scipy.interpolate.RectBivariateSpline(x=u, y=v, z=arr.mask, kx=k, ky=k)\n",
    "    new_rows = rows * scale\n",
    "    new_cols = cols * scale\n",
    "    new_u = np.linspace(0, rows, num=new_rows)\n",
    "    new_v = np.linspace(0, cols, num=new_cols)\n",
    "    # compute iinterpolated values\n",
    "    if k == 0:\n",
    "        Y_new, X_new = np.meshgrid(new_v, new_u)\n",
    "        interpolated = Z(np.c_[X_new.ravel(), Y_new.ravel()]).reshape((new_rows, new_cols))\n",
    "    else:\n",
    "        interpolated = Z(new_u, new_v).reshape((new_rows, new_cols))\n",
    "    # compute interpolated mask\n",
    "    if mask:\n",
    "        if k == 0:\n",
    "            interpolated_mask = Z_mask(np.c_[X_new.ravel(), Y_new.ravel()]).reshape((new_rows, new_cols))\n",
    "        else:\n",
    "            interpolated_mask = Z_mask(new_u, new_v).reshape((new_rows, new_cols))\n",
    "        # computation is based on masked value\n",
    "        return np.ma.masked_array(interpolated, mask=interpolated_mask>0.5)\n",
    "    return interpolated\n",
    "\n",
    "    \n"
   ]
  },
  {
   "cell_type": "code",
   "execution_count": 67,
   "metadata": {},
   "outputs": [
    {
     "name": "stderr",
     "output_type": "stream",
     "text": [
      "/Users/baart_f/.virtualenvs/main/lib/python3.6/site-packages/ipykernel_launcher.py:3: RuntimeWarning: invalid value encountered in greater\n",
      "  This is separate from the ipykernel package so we can avoid doing imports until\n",
      "/Users/baart_f/.virtualenvs/main/lib/python3.6/site-packages/ipykernel_launcher.py:4: RuntimeWarning: invalid value encountered in greater\n",
      "  after removing the cwd from sys.path.\n",
      "/Users/baart_f/.virtualenvs/main/lib/python3.6/site-packages/ipykernel_launcher.py:6: RuntimeWarning: invalid value encountered in greater\n",
      "  \n",
      "/Users/baart_f/.virtualenvs/main/lib/python3.6/site-packages/ipykernel_launcher.py:11: RuntimeWarning: invalid value encountered in greater\n",
      "  # This is added back by InteractiveShellApp.init_path()\n"
     ]
    }
   ],
   "source": [
    "N_wave_period = matplotlib.colors.Normalize(0, 40, clip=True)\n",
    "for i, t_i in enumerate(times):\n",
    "    current = ds.variables['Current'][i]\n",
    "    wave_length = ds.variables['WaveLgth'][i]\n",
    "\n",
    "    wave_angle = ds.variables['WAngle'][i]\n",
    "    wave_angle_masked = np.ma.masked_invalid(wave_angle)\n",
    "    wave_angle_masked_resampled = resample(wave_angle_masked, scale=10, k=0)\n",
    "    wave_angle_masked_resampled_radian = np.deg2rad(90 - wave_angle_masked_resampled)\n",
    "\n",
    "    wave_period = ds.variables['Period'][i]\n",
    "    wave_period_masked = np.ma.masked_invalid(wave_period)\n",
    "    wave_period_masked_resampled = resample(wave_period_masked, scale=10, k=0)\n",
    "    wave_period_masked_resampled_normalized = N_wave_period(wave_period_masked_resampled)\n",
    "    \n",
    "    U = np.ma.cos(wave_angle_masked_resampled_radian)\n",
    "    V = np.ma.sin(wave_angle_masked_resampled_radian)\n",
    "    R = U.filled(0) * wave_period_masked_resampled_normalized.filled(0) * 0.5 + 0.5\n",
    "    G = V.filled(0) * wave_period_masked_resampled_normalized.filled(0) * 0.5 + 0.5\n",
    "    B = np.logical_or(wave_period_masked_resampled.mask, wave_angle_masked_resampled.mask)\n",
    "    RGB = np.dstack([R, G, B])\n",
    "    plt.imsave('radar_{:06d}.png'.format(i), RGB)\n"
   ]
  },
  {
   "cell_type": "code",
   "execution_count": null,
   "metadata": {},
   "outputs": [],
   "source": [
    "fig, axes = plt.subplots(3, 2, figsize=(13, 12))\n",
    "axes[0, 0].imshow(wave_period)\n",
    "axes[0, 1].imshow(wave_angle, cmap=cmocean.cm.phase, vmin=0, vmax=360)\n",
    "axes[1, 0].imshow(R, cmap='Reds')\n",
    "axes[1, 1].imshow(B, cmap='Blues')\n",
    "axes[2, 0].imshow(G, cmap='Greens')\n",
    "axes[2, 1].imshow(RGB)"
   ]
  },
  {
   "cell_type": "code",
   "execution_count": null,
   "metadata": {},
   "outputs": [],
   "source": [
    "u = np.cos(wave_angle_masked_resampled_radian)\n",
    "v = np.sin(wave_angle_masked_resampled_radian)\n",
    "plt.quiver(u[::10,::10], v[::10, ::10])"
   ]
  },
  {
   "cell_type": "code",
   "execution_count": 54,
   "metadata": {},
   "outputs": [
    {
     "data": {
      "text/plain": [
       "359.29999"
      ]
     },
     "execution_count": 54,
     "metadata": {},
     "output_type": "execute_result"
    }
   ],
   "source": [
    "np.nanmax(wave_angle)"
   ]
  },
  {
   "cell_type": "code",
   "execution_count": null,
   "metadata": {},
   "outputs": [],
   "source": []
  }
 ],
 "metadata": {
  "kernelspec": {
   "display_name": "Python 3",
   "language": "python",
   "name": "python3"
  },
  "language_info": {
   "codemirror_mode": {
    "name": "ipython",
    "version": 3
   },
   "file_extension": ".py",
   "mimetype": "text/x-python",
   "name": "python",
   "nbconvert_exporter": "python",
   "pygments_lexer": "ipython3",
   "version": "3.6.3"
  }
 },
 "nbformat": 4,
 "nbformat_minor": 2
}
