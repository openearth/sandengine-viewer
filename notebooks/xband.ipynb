{
 "cells": [
  {
   "cell_type": "code",
   "execution_count": 1,
   "metadata": {},
   "outputs": [
    {
     "name": "stderr",
     "output_type": "stream",
     "text": [
      "/Users/baart_f/.virtualenvs/main/lib/python3.6/site-packages/cmocean/tools.py:76: MatplotlibDeprecationWarning: The is_string_like function was deprecated in version 2.1.\n",
      "  if not mpl.cbook.is_string_like(rgbin[0]):\n"
     ]
    }
   ],
   "source": [
    "import pathlib\n",
    "\n",
    "import cmocean.cm\n",
    "import netCDF4\n",
    "import numpy as np\n",
    "import matplotlib.pyplot as plt\n",
    "import matplotlib.colors\n",
    "import scipy.interpolate\n",
    "import scipy.stats\n",
    "\n",
    "\n",
    "%matplotlib inline"
   ]
  },
  {
   "cell_type": "code",
   "execution_count": 2,
   "metadata": {},
   "outputs": [],
   "source": [
    "# based on the raw data in \n",
    "# https://repos.deltares.nl/repos/zandmotor/trunk/meteohydro/xband/raw/logfiles/2016_05/2016-05-01%2001.52.45UTC.log\n",
    "\n",
    "url = pathlib.Path('~/Downloads/xband_resolution_200m_2016.nc').expanduser()\n",
    "\n"
   ]
  },
  {
   "cell_type": "code",
   "execution_count": 3,
   "metadata": {},
   "outputs": [],
   "source": [
    "ds = netCDF4.Dataset(str(url))"
   ]
  },
  {
   "cell_type": "code",
   "execution_count": 4,
   "metadata": {},
   "outputs": [],
   "source": [
    "lat = ds.variables['Lat'][0]\n",
    "lon = ds.variables['Lon'][0]\n",
    "times = netCDF4.num2date(ds.variables['Time'][:], ds.variables['Time'].units)"
   ]
  },
  {
   "cell_type": "code",
   "execution_count": 5,
   "metadata": {},
   "outputs": [],
   "source": [
    "def resample(arr, scale=1, fill_value=0.0, k=2):\n",
    "    \n",
    "    mask = hasattr(arr, 'mask')\n",
    "    rows, cols = arr.shape\n",
    "    u = np.linspace(0, rows, num=rows)\n",
    "    v = np.linspace(0, cols, num=cols)\n",
    "    if k == 0:\n",
    "        Y, X = np.meshgrid(v, u)\n",
    "        Z = scipy.interpolate.NearestNDInterpolator(np.c_[X.ravel(), Y.ravel()], arr.filled().ravel())\n",
    "    else:\n",
    "        Z = scipy.interpolate.RectBivariateSpline(x=u, y=v, z=arr.filled(0), kx=k, ky=k)\n",
    "    if mask:\n",
    "        if k == 0:\n",
    "            Z_mask = scipy.interpolate.NearestNDInterpolator(np.c_[X.ravel(), Y.ravel()], arr.mask.ravel())\n",
    "        else:\n",
    "            Z_mask = scipy.interpolate.RectBivariateSpline(x=u, y=v, z=arr.mask, kx=k, ky=k)\n",
    "    new_rows = rows * scale\n",
    "    new_cols = cols * scale\n",
    "    new_u = np.linspace(0, rows, num=new_rows)\n",
    "    new_v = np.linspace(0, cols, num=new_cols)\n",
    "    # compute iinterpolated values\n",
    "    if k == 0:\n",
    "        Y_new, X_new = np.meshgrid(new_v, new_u)\n",
    "        interpolated = Z(np.c_[X_new.ravel(), Y_new.ravel()]).reshape((new_rows, new_cols))\n",
    "    else:\n",
    "        interpolated = Z(new_u, new_v).reshape((new_rows, new_cols))\n",
    "    # compute interpolated mask\n",
    "    if mask:\n",
    "        if k == 0:\n",
    "            interpolated_mask = Z_mask(np.c_[X_new.ravel(), Y_new.ravel()]).reshape((new_rows, new_cols))\n",
    "        else:\n",
    "            interpolated_mask = Z_mask(new_u, new_v).reshape((new_rows, new_cols))\n",
    "        # computation is based on masked value\n",
    "        return np.ma.masked_array(interpolated, mask=interpolated_mask>0.5)\n",
    "    return interpolated\n",
    "\n",
    "    \n"
   ]
  },
  {
   "cell_type": "code",
   "execution_count": 6,
   "metadata": {},
   "outputs": [
    {
     "name": "stderr",
     "output_type": "stream",
     "text": [
      "/Users/baart_f/.virtualenvs/main/lib/python3.6/site-packages/ipykernel_launcher.py:5: RuntimeWarning: invalid value encountered in greater\n",
      "  \"\"\"\n",
      "/Users/baart_f/.virtualenvs/main/lib/python3.6/site-packages/ipykernel_launcher.py:11: RuntimeWarning: invalid value encountered in greater\n",
      "  # This is added back by InteractiveShellApp.init_path()\n",
      "/Users/baart_f/.virtualenvs/main/lib/python3.6/site-packages/ipykernel_launcher.py:25: RuntimeWarning: invalid value encountered in greater\n",
      "/Users/baart_f/.virtualenvs/main/lib/python3.6/site-packages/ipykernel_launcher.py:31: RuntimeWarning: invalid value encountered in greater\n"
     ]
    }
   ],
   "source": [
    "N_current = matplotlib.colors.Normalize(0, 3, clip=True)\n",
    "N_period = matplotlib.colors.Normalize(0, 40, clip=True)\n",
    "\n",
    "for i, t_i in enumerate(times):\n",
    "    current_angle = ds.variables['CAngle'][i]\n",
    "    current_angle_masked = np.ma.masked_invalid(current_angle)\n",
    "    current_angle_masked_resampled = resample(current_angle_masked, scale=10, k=0)\n",
    "    # curent from north -> 180 + -> current to -> 90 - -> ccw east\n",
    "    current_angle_masked_resampled_radian = np.mod(np.deg2rad(90 + current_angle_masked_resampled), np.pi*2)\n",
    "\n",
    "    current = ds.variables['Current'][i]\n",
    "    current_masked = np.ma.masked_invalid(current)\n",
    "    current_masked_resampled = resample(current_masked, scale=10, k=0)\n",
    "    current_masked_resampled_normalized = N_current(current_masked_resampled)\n",
    "    \n",
    "    U = np.ma.cos(current_angle_masked_resampled_radian)\n",
    "    V = np.ma.sin(current_angle_masked_resampled_radian)\n",
    "    R = U.filled(0) * current_masked_resampled_normalized.filled(0) * 0.5 + 0.5\n",
    "    G = V.filled(0) * current_masked_resampled_normalized.filled(0) * 0.5 + 0.5\n",
    "    B = np.logical_or(current_masked_resampled_normalized.mask, current_angle_masked_resampled_radian.mask)\n",
    "    RGB = np.dstack([R, G, B])\n",
    "    plt.imsave('radar_current_{:06d}.png'.format(i), RGB)\n",
    "\n",
    "    \n",
    "    wave_angle = ds.variables['WAngle'][i:i+10]\n",
    "    wave_angle_masked = np.ma.masked_invalid(wave_angle)\n",
    "    # compute mean along last axis\n",
    "    wave_angle_masked_radian = np.ma.masked_invalid(scipy.stats.circmean(np.mod(np.deg2rad(90 + wave_angle_masked), np.pi*2), axis=0))\n",
    "    wave_angle_masked_resampled_radian = resample(wave_angle_masked_radian, scale=10, k=0)\n",
    "\n",
    "    wave_period = ds.variables['Period'][i]\n",
    "    wave_period_masked = np.ma.masked_invalid(wave_period)\n",
    "    wave_period_masked_resampled = resample(wave_period_masked, scale=10, k=0)\n",
    "    wave_period_masked_resampled_normalized = N_period(wave_period_masked_resampled)\n",
    "    \n",
    "    U = np.ma.cos(wave_angle_masked_resampled_radian)\n",
    "    V = np.ma.sin(wave_angle_masked_resampled_radian)\n",
    "    R = U.filled(0) * wave_period_masked_resampled_normalized.filled(0) * 0.5 + 0.5\n",
    "    G = V.filled(0) * wave_period_masked_resampled_normalized.filled(0) * 0.5 + 0.5\n",
    "    B = np.logical_or(wave_period_masked_resampled_normalized.mask, wave_angle_masked_resampled_radian.mask)\n",
    "    RGB = np.dstack([R, G, B])\n",
    "    plt.imsave('radar_waves_{:06d}.png'.format(i), RGB)\n",
    "    "
   ]
  },
  {
   "cell_type": "code",
   "execution_count": 7,
   "metadata": {},
   "outputs": [
    {
     "ename": "TypeError",
     "evalue": "Invalid dimensions for image data",
     "output_type": "error",
     "traceback": [
      "\u001b[0;31m---------------------------------------------------------------------------\u001b[0m",
      "\u001b[0;31mTypeError\u001b[0m                                 Traceback (most recent call last)",
      "\u001b[0;32m<ipython-input-7-92e05dbea8c7>\u001b[0m in \u001b[0;36m<module>\u001b[0;34m()\u001b[0m\n\u001b[1;32m      1\u001b[0m \u001b[0mfig\u001b[0m\u001b[0;34m,\u001b[0m \u001b[0maxes\u001b[0m \u001b[0;34m=\u001b[0m \u001b[0mplt\u001b[0m\u001b[0;34m.\u001b[0m\u001b[0msubplots\u001b[0m\u001b[0;34m(\u001b[0m\u001b[0;36m3\u001b[0m\u001b[0;34m,\u001b[0m \u001b[0;36m2\u001b[0m\u001b[0;34m,\u001b[0m \u001b[0mfigsize\u001b[0m\u001b[0;34m=\u001b[0m\u001b[0;34m(\u001b[0m\u001b[0;36m13\u001b[0m\u001b[0;34m,\u001b[0m \u001b[0;36m12\u001b[0m\u001b[0;34m)\u001b[0m\u001b[0;34m)\u001b[0m\u001b[0;34m\u001b[0m\u001b[0m\n\u001b[1;32m      2\u001b[0m \u001b[0maxes\u001b[0m\u001b[0;34m[\u001b[0m\u001b[0;36m0\u001b[0m\u001b[0;34m,\u001b[0m \u001b[0;36m0\u001b[0m\u001b[0;34m]\u001b[0m\u001b[0;34m.\u001b[0m\u001b[0mimshow\u001b[0m\u001b[0;34m(\u001b[0m\u001b[0mwave_period\u001b[0m\u001b[0;34m)\u001b[0m\u001b[0;34m\u001b[0m\u001b[0m\n\u001b[0;32m----> 3\u001b[0;31m \u001b[0maxes\u001b[0m\u001b[0;34m[\u001b[0m\u001b[0;36m0\u001b[0m\u001b[0;34m,\u001b[0m \u001b[0;36m1\u001b[0m\u001b[0;34m]\u001b[0m\u001b[0;34m.\u001b[0m\u001b[0mimshow\u001b[0m\u001b[0;34m(\u001b[0m\u001b[0mwave_angle\u001b[0m\u001b[0;34m,\u001b[0m \u001b[0mcmap\u001b[0m\u001b[0;34m=\u001b[0m\u001b[0mcmocean\u001b[0m\u001b[0;34m.\u001b[0m\u001b[0mcm\u001b[0m\u001b[0;34m.\u001b[0m\u001b[0mphase\u001b[0m\u001b[0;34m,\u001b[0m \u001b[0mvmin\u001b[0m\u001b[0;34m=\u001b[0m\u001b[0;36m0\u001b[0m\u001b[0;34m,\u001b[0m \u001b[0mvmax\u001b[0m\u001b[0;34m=\u001b[0m\u001b[0;36m360\u001b[0m\u001b[0;34m)\u001b[0m\u001b[0;34m\u001b[0m\u001b[0m\n\u001b[0m\u001b[1;32m      4\u001b[0m \u001b[0maxes\u001b[0m\u001b[0;34m[\u001b[0m\u001b[0;36m1\u001b[0m\u001b[0;34m,\u001b[0m \u001b[0;36m0\u001b[0m\u001b[0;34m]\u001b[0m\u001b[0;34m.\u001b[0m\u001b[0mimshow\u001b[0m\u001b[0;34m(\u001b[0m\u001b[0mR\u001b[0m\u001b[0;34m,\u001b[0m \u001b[0mcmap\u001b[0m\u001b[0;34m=\u001b[0m\u001b[0;34m'Reds'\u001b[0m\u001b[0;34m)\u001b[0m\u001b[0;34m\u001b[0m\u001b[0m\n\u001b[1;32m      5\u001b[0m \u001b[0maxes\u001b[0m\u001b[0;34m[\u001b[0m\u001b[0;36m1\u001b[0m\u001b[0;34m,\u001b[0m \u001b[0;36m1\u001b[0m\u001b[0;34m]\u001b[0m\u001b[0;34m.\u001b[0m\u001b[0mimshow\u001b[0m\u001b[0;34m(\u001b[0m\u001b[0mB\u001b[0m\u001b[0;34m,\u001b[0m \u001b[0mcmap\u001b[0m\u001b[0;34m=\u001b[0m\u001b[0;34m'Blues'\u001b[0m\u001b[0;34m)\u001b[0m\u001b[0;34m\u001b[0m\u001b[0m\n",
      "\u001b[0;32m~/.virtualenvs/main/lib/python3.6/site-packages/matplotlib/__init__.py\u001b[0m in \u001b[0;36minner\u001b[0;34m(ax, *args, **kwargs)\u001b[0m\n\u001b[1;32m   1708\u001b[0m                     warnings.warn(msg % (label_namer, func.__name__),\n\u001b[1;32m   1709\u001b[0m                                   RuntimeWarning, stacklevel=2)\n\u001b[0;32m-> 1710\u001b[0;31m             \u001b[0;32mreturn\u001b[0m \u001b[0mfunc\u001b[0m\u001b[0;34m(\u001b[0m\u001b[0max\u001b[0m\u001b[0;34m,\u001b[0m \u001b[0;34m*\u001b[0m\u001b[0margs\u001b[0m\u001b[0;34m,\u001b[0m \u001b[0;34m**\u001b[0m\u001b[0mkwargs\u001b[0m\u001b[0;34m)\u001b[0m\u001b[0;34m\u001b[0m\u001b[0m\n\u001b[0m\u001b[1;32m   1711\u001b[0m         \u001b[0mpre_doc\u001b[0m \u001b[0;34m=\u001b[0m \u001b[0minner\u001b[0m\u001b[0;34m.\u001b[0m\u001b[0m__doc__\u001b[0m\u001b[0;34m\u001b[0m\u001b[0m\n\u001b[1;32m   1712\u001b[0m         \u001b[0;32mif\u001b[0m \u001b[0mpre_doc\u001b[0m \u001b[0;32mis\u001b[0m \u001b[0;32mNone\u001b[0m\u001b[0;34m:\u001b[0m\u001b[0;34m\u001b[0m\u001b[0m\n",
      "\u001b[0;32m~/.virtualenvs/main/lib/python3.6/site-packages/matplotlib/axes/_axes.py\u001b[0m in \u001b[0;36mimshow\u001b[0;34m(self, X, cmap, norm, aspect, interpolation, alpha, vmin, vmax, origin, extent, shape, filternorm, filterrad, imlim, resample, url, **kwargs)\u001b[0m\n\u001b[1;32m   5192\u001b[0m                               resample=resample, **kwargs)\n\u001b[1;32m   5193\u001b[0m \u001b[0;34m\u001b[0m\u001b[0m\n\u001b[0;32m-> 5194\u001b[0;31m         \u001b[0mim\u001b[0m\u001b[0;34m.\u001b[0m\u001b[0mset_data\u001b[0m\u001b[0;34m(\u001b[0m\u001b[0mX\u001b[0m\u001b[0;34m)\u001b[0m\u001b[0;34m\u001b[0m\u001b[0m\n\u001b[0m\u001b[1;32m   5195\u001b[0m         \u001b[0mim\u001b[0m\u001b[0;34m.\u001b[0m\u001b[0mset_alpha\u001b[0m\u001b[0;34m(\u001b[0m\u001b[0malpha\u001b[0m\u001b[0;34m)\u001b[0m\u001b[0;34m\u001b[0m\u001b[0m\n\u001b[1;32m   5196\u001b[0m         \u001b[0;32mif\u001b[0m \u001b[0mim\u001b[0m\u001b[0;34m.\u001b[0m\u001b[0mget_clip_path\u001b[0m\u001b[0;34m(\u001b[0m\u001b[0;34m)\u001b[0m \u001b[0;32mis\u001b[0m \u001b[0;32mNone\u001b[0m\u001b[0;34m:\u001b[0m\u001b[0;34m\u001b[0m\u001b[0m\n",
      "\u001b[0;32m~/.virtualenvs/main/lib/python3.6/site-packages/matplotlib/image.py\u001b[0m in \u001b[0;36mset_data\u001b[0;34m(self, A)\u001b[0m\n\u001b[1;32m    602\u001b[0m         if not (self._A.ndim == 2\n\u001b[1;32m    603\u001b[0m                 or self._A.ndim == 3 and self._A.shape[-1] in [3, 4]):\n\u001b[0;32m--> 604\u001b[0;31m             \u001b[0;32mraise\u001b[0m \u001b[0mTypeError\u001b[0m\u001b[0;34m(\u001b[0m\u001b[0;34m\"Invalid dimensions for image data\"\u001b[0m\u001b[0;34m)\u001b[0m\u001b[0;34m\u001b[0m\u001b[0m\n\u001b[0m\u001b[1;32m    605\u001b[0m \u001b[0;34m\u001b[0m\u001b[0m\n\u001b[1;32m    606\u001b[0m         \u001b[0mself\u001b[0m\u001b[0;34m.\u001b[0m\u001b[0m_imcache\u001b[0m \u001b[0;34m=\u001b[0m \u001b[0;32mNone\u001b[0m\u001b[0;34m\u001b[0m\u001b[0m\n",
      "\u001b[0;31mTypeError\u001b[0m: Invalid dimensions for image data"
     ]
    },
    {
     "data": {
      "image/png": "[encoded data removed]",
      "text/plain": [
       "<matplotlib.figure.Figure at 0x10eafd400>"
      ]
     },
     "metadata": {},
     "output_type": "display_data"
    }
   ],
   "source": [
    "fig, axes = plt.subplots(3, 2, figsize=(13, 12))\n",
    "axes[0, 0].imshow(wave_period)\n",
    "axes[0, 1].imshow(wave_angle, cmap=cmocean.cm.phase, vmin=0, vmax=360)\n",
    "axes[1, 0].imshow(R, cmap='Reds')\n",
    "axes[1, 1].imshow(B, cmap='Blues')\n",
    "axes[2, 0].imshow(G, cmap='Greens')\n",
    "axes[2, 1].imshow(RGB)"
   ]
  },
  {
   "cell_type": "code",
   "execution_count": null,
   "metadata": {},
   "outputs": [],
   "source": [
    "angle = np.ma.masked_invalid(ds.variables['CAngle'][i:i+10])\n"
   ]
  },
  {
   "cell_type": "code",
   "execution_count": null,
   "metadata": {},
   "outputs": [],
   "source": [
    "times"
   ]
  },
  {
   "cell_type": "code",
   "execution_count": null,
   "metadata": {},
   "outputs": [],
   "source": []
  }
 ],
 "metadata": {
  "kernelspec": {
   "display_name": "Python 3",
   "language": "python",
   "name": "python3"
  },
  "language_info": {
   "codemirror_mode": {
    "name": "ipython",
    "version": 3
   },
   "file_extension": ".py",
   "mimetype": "text/x-python",
   "name": "python",
   "nbconvert_exporter": "python",
   "pygments_lexer": "ipython3",
   "version": "3.6.4"
  }
 },
 "nbformat": 4,
 "nbformat_minor": 2
}
