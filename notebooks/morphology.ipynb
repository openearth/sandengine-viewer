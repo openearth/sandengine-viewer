{
 "cells": [
  {
   "cell_type": "code",
   "execution_count": 288,
   "metadata": {},
   "outputs": [],
   "source": [
    "import bisect\n",
    "\n",
    "import numpy as np\n",
    "import scipy.interpolate\n",
    "import netCDF4\n",
    "import matplotlib.pyplot as plt\n",
    "import matplotlib.colors\n",
    "import pycpt\n",
    "import tqdm\n",
    "import json\n",
    "%matplotlib inline"
   ]
  },
  {
   "cell_type": "code",
   "execution_count": 20,
   "metadata": {},
   "outputs": [],
   "source": [
    "urls = [\n",
    "    'http://opendap.tudelft.nl/thredds/dodsC/data2/zandmotor/morphology/JETSKI/gridded/jetskikb118_3938.nc',\n",
    "    'http://opendap.tudelft.nl/thredds/dodsC/data2/zandmotor/morphology/JETSKI/gridded/jetskikb118_3736.nc',\n",
    "    'http://opendap.tudelft.nl/thredds/dodsC/data2/zandmotor/morphology/JETSKI/gridded/jetskikb117_3938.nc'\n",
    "]\n"
   ]
  },
  {
   "cell_type": "code",
   "execution_count": 188,
   "metadata": {},
   "outputs": [],
   "source": [
    "grids = []\n",
    "for url in urls:\n",
    "    ds = netCDF4.Dataset(url)\n",
    "    times = ds.variables['time'][:]\n",
    "    arrs = []\n",
    "    z = ds.variables['z'][:]\n",
    "    grids.append({\n",
    "        \"url\": url,\n",
    "        \"z\": z,\n",
    "        \"times\": times\n",
    "    })\n",
    "    ds.close()"
   ]
  },
  {
   "cell_type": "code",
   "execution_count": 276,
   "metadata": {},
   "outputs": [],
   "source": [
    "def fill(z):\n",
    "    \"\"\"fill z by space and then time\"\"\"\n",
    "\n",
    "    def fill_space(z):\n",
    "        \"\"\"fill space\"\"\"\n",
    "        assert len(z.shape) == 2, 'expected 2d, got %d d' % (len(z.shape), )\n",
    "        # if we have no data...\n",
    "        if z.mask.all():\n",
    "            # nothing to interpolate, just return missings\n",
    "            z_filled = np.ma.masked_all_like(z)\n",
    "            return z_filled\n",
    "\n",
    "        x = np.arange(z.shape[0])\n",
    "        y = np.arange(z.shape[1])\n",
    "        Y, X = np.meshgrid(y, x)\n",
    "        points = np.c_[X.ravel(), Y.ravel()]\n",
    "        F = scipy.interpolate.RegularGridInterpolator(\n",
    "            (x, y),\n",
    "            z.filled(np.nan),\n",
    "            fill_value=np.nan\n",
    "        )\n",
    "        z_interp = F(np.c_[X.ravel(), Y.ravel()])\n",
    "        z_filled = np.ma.masked_invalid(z_interp.reshape(z.shape))\n",
    "        return z_filled\n",
    "\n",
    "    def fill_time(z):\n",
    "        \"\"\"fill time\"\"\"\n",
    "        assert len(z.shape) == 3, 'expected 3d, got %d d' % (len(z.shape), )\n",
    "\n",
    "        z_filled = z.copy()\n",
    "        z_filled.unshare_mask()\n",
    "        for i in range(1, z_filled.shape[0]):\n",
    "            arr_prev = z_filled[i-1]\n",
    "            arr_current = z_filled[i]\n",
    "            z_filled[i] = np.ma.where(arr_current.mask, arr_prev, arr_current)\n",
    "        return z_filled\n",
    "\n",
    "    filled_z = np.ma.row_stack([fill_space(z_i)[np.newaxis, ...] for z_i in z])\n",
    "    filled_z = fill_time(filled_z)\n",
    "    return filled_z\n",
    "\n",
    "def interpolate(z, times):\n",
    "    def calc(t):\n",
    "        t_a_idx = bisect.bisect(times, t) - 1\n",
    "        if t_a_idx < 0:\n",
    "            t_a_idx = 0\n",
    "        t_b_idx = t_a_idx + 1\n",
    "        if t_b_idx > (len(times) - 1):\n",
    "            t_b_idx = (len(times) - 1)\n",
    "        if t_b_idx == t_a_idx:\n",
    "            # images are equal, we're done\n",
    "            img_a = z[t_a_idx]\n",
    "            return img_a\n",
    "\n",
    "        # time of frame before t \n",
    "        t_a = times[t_a_idx]\n",
    "        # time of frame after t\n",
    "        t_b = times[t_b_idx]\n",
    "        # duration between two frames\n",
    "        duration = t_b - t_a\n",
    "        # compute fraction of time elapsed\n",
    "        fraction = (t - t_a) / duration\n",
    "\n",
    "        img_a = z[t_a_idx]\n",
    "        img_b = z[t_b_idx]\n",
    "        # if fraction is 0 we get image a\n",
    "        # if fraction is 1 we get image b\n",
    "        return img_a * (1 - fraction) + img_b * fraction\n",
    "    return calc\n"
   ]
  },
  {
   "cell_type": "code",
   "execution_count": 115,
   "metadata": {},
   "outputs": [],
   "source": [
    "# some colormaps I tried\n",
    "cmap = pycpt.load.cmap_from_cptcity_url('wkp/shadowxfox/colombia.cpt')\n",
    "cmap = pycpt.load.cmap_from_cptcity_url('grass/etopo2.cpt')\n",
    "# somehow utah looks most like the moon....\n",
    "cmap_topo = pycpt.load.cmap_from_cptcity_url('esri/hypsometry/na/utah_1.cpt')\n",
    "# and this is goes nicely from dark to very light\n",
    "cmap_bathy = pycpt.load.cmap_from_cptcity_url('xkcd/xkcd-bath.cpt')\n"
   ]
  },
  {
   "cell_type": "code",
   "execution_count": 125,
   "metadata": {},
   "outputs": [],
   "source": [
    "# split into topo and bathy\n",
    "sealevel = 0\n",
    "N_bathy = matplotlib.colors.Normalize(vmin=-20, vmax=sealevel, clip=True)\n",
    "N_topo = matplotlib.colors.Normalize(vmin=sealevel, vmax=20, clip=True)\n",
    "\n",
    "\n",
    "# mix colors\n"
   ]
  },
  {
   "cell_type": "code",
   "execution_count": 278,
   "metadata": {},
   "outputs": [
    {
     "name": "stderr",
     "output_type": "stream",
     "text": [
      "/Users/baart_f/.virtualenvs/main/lib/python3.6/site-packages/ipykernel_launcher.py:11: RuntimeWarning: invalid value encountered in less\n",
      "  # This is added back by InteractiveShellApp.init_path()\n"
     ]
    }
   ],
   "source": [
    "\n",
    "for grid_i, grid in enumerate(grids): \n",
    "    filled_z = fill(grid['z'])\n",
    "    Z = interpolate(filled_z, grid['times'])\n",
    "    t_out = np.linspace(grid['times'][0], grid['times'][-1], num=400)\n",
    "    for t_i, t in enumerate(t_out):\n",
    "        arr = Z(t)\n",
    "        # 2 colors\n",
    "        bathy_colors = cmap_bathy(N_bathy(arr))\n",
    "        topo_colors = cmap_topo(N_topo(arr))\n",
    "        colors = np.where(np.repeat((arr < sealevel)[:,:,np.newaxis], 4, axis=2), bathy_colors, topo_colors)\n",
    "        bw_mask = np.zeros_like(colors) + arr.mask[:, :, np.newaxis]\n",
    "        img = np.ma.vstack([colors, bw_mask])\n",
    "        plt.imsave('img_%02d_%06d.png' % (grid_i, t_i,), img)\n"
   ]
  },
  {
   "cell_type": "code",
   "execution_count": 275,
   "metadata": {},
   "outputs": [
    {
     "data": {
      "text/plain": [
       "((20, 625, 500), (57,))"
      ]
     },
     "execution_count": 275,
     "metadata": {},
     "output_type": "execute_result"
    }
   ],
   "source": [
    "filled_z.shape, grid['times'].shape"
   ]
  },
  {
   "cell_type": "code",
   "execution_count": 291,
   "metadata": {},
   "outputs": [],
   "source": [
    "metas = []\n",
    "for i, url in enumerate(urls):\n",
    "    ds = netCDF4.Dataset(url)\n",
    "    times = netCDF4.num2date(ds.variables['time'][:].astype('double'), ds.variables['time'].units)\n",
    "    x = ds.variables['x'][:]\n",
    "    y = ds.variables['y'][:]\n",
    "    Lat = ds.variables['lat'][:]\n",
    "    Lon = ds.variables['lon'][:]\n",
    "    metas.append({\n",
    "        \"url\": url,\n",
    "        \"startTime\": times[0].isoformat(),\n",
    "        \"endTime\": times[-1].isoformat(),\n",
    "        \"extent\": (float(Lon.min()), float(Lat.min()), float(Lon.max()), float(Lat.max())),\n",
    "        \"mp4\": \"jetski_%02d_yuv420.mp4\" % (i, )\n",
    "    })\n",
    "    ds.close()\n",
    "json.dump(metas, open('meta.json', 'w'))"
   ]
  },
  {
   "cell_type": "code",
   "execution_count": 283,
   "metadata": {},
   "outputs": [
    {
     "data": {
      "text/plain": [
       "array([15395, 15779, 15840, 15901, 15947, 16067, 16129, 16214, 16255,\n",
       "       16316, 16373, 16476, 16578, 16639, 16648, 16706, 16872, 16928,\n",
       "       17001, 17051], dtype=int32)"
      ]
     },
     "execution_count": 283,
     "metadata": {},
     "output_type": "execute_result"
    }
   ],
   "source": []
  },
  {
   "cell_type": "code",
   "execution_count": null,
   "metadata": {},
   "outputs": [],
   "source": []
  }
 ],
 "metadata": {
  "kernelspec": {
   "display_name": "Python 3",
   "language": "python",
   "name": "python3"
  },
  "language_info": {
   "codemirror_mode": {
    "name": "ipython",
    "version": 3
   },
   "file_extension": ".py",
   "mimetype": "text/x-python",
   "name": "python",
   "nbconvert_exporter": "python",
   "pygments_lexer": "ipython3",
   "version": "3.6.4"
  }
 },
 "nbformat": 4,
 "nbformat_minor": 2
}
