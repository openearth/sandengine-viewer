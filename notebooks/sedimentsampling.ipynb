{
 "cells": [
  {
   "cell_type": "code",
   "execution_count": 1,
   "metadata": {},
   "outputs": [],
   "source": [
    "import numpy as np\n",
    "import matplotlib.pyplot as plt\n",
    "%matplotlib inline\n",
    "\n",
    "import netCDF4 as nc\n",
    "import geojson\n",
    "import json\n",
    "import urllib\n",
    "import os, re\n",
    "# import folium\n",
    "# from folium.plugins import MarkerCluster, FastMarkerCluster"
   ]
  },
  {
   "cell_type": "code",
   "execution_count": 2,
   "metadata": {},
   "outputs": [],
   "source": [
    "url_base = 'http://opendap.tudelft.nl/thredds/dodsC/data2/zandmotor/morphology/sediment_composition/'\n",
    "urls = ['sedimentsampling_sandmotor_oct2010.nc',\n",
    "        'sedimentsampling_sandmotor_aug2012.nc',\n",
    "        'sedimentsampling_nemo_feb2013.nc',\n",
    "        'sedimentsampling_nemo_feb2013_malvern.nc',\n",
    "        'sedimentsampling_sandmotor_oct2013.nc',\n",
    "        'sedimentsampling_nemo_feb2014.nc',\n",
    "        'sedimentsampling_nemo_oct2014.nc',\n",
    "        'sedimentsampling_sandmotor_aug2015.nc']"
   ]
  },
  {
   "cell_type": "code",
   "execution_count": null,
   "metadata": {},
   "outputs": [],
   "source": []
  },
  {
   "cell_type": "code",
   "execution_count": 19,
   "metadata": {},
   "outputs": [
    {
     "name": "stderr",
     "output_type": "stream",
     "text": [
      "/home/giosans/.virtualenvs/fastai/lib/python3.6/site-packages/ipykernel_launcher.py:27: RuntimeWarning: invalid value encountered in greater\n"
     ]
    }
   ],
   "source": [
    "urlpaths = [os.path.join(url_base, u) for u in urls ]\n",
    "\n",
    "features = []\n",
    "features_pt = []\n",
    "for url in urlpaths:\n",
    "    dataset = nc.Dataset(url)\n",
    "    # get location of sampling\n",
    "    lat = dataset['lat'][:].tolist()\n",
    "    lon = dataset['lon'][:].tolist()\n",
    "    # print(lat, lon)\n",
    "    time = nc.num2date(dataset['time'][:],'seconds since 1970-01-01') # definition in the nc is wrong\n",
    "    timeDT = list(map(str, nc.num2date(dataset['time'][:], units='seconds since 1970-01-01').tolist()))\n",
    "    timeUX = [ int(it.timestamp()) for it in nc.num2date(dataset['time'][:], units='seconds since 1970-01-01')]\n",
    "    \n",
    "    # build geojson\n",
    "    properties = {}\n",
    "    depthvalues = []\n",
    "    name = ['D10','D30','D50','D60','D90']\n",
    "    #nameS = ['Sfines','Smedium','Scoarse']\n",
    "    nameS = []\n",
    "    dictsed_np = dict()\n",
    "    dictsed = dict()\n",
    "    for k in name+nameS:\n",
    "        dictsed_np[k] = dataset[k][:]\n",
    "        dictsed_np[k][np.isnan(dictsed_np[k])] = None #'NaN' #-999 # nodata\n",
    "        dictsed[k] = dictsed_np[k].tolist()\n",
    "    dictsed_np['depth'] = dataset['depth'][:]\n",
    "    dictsed_np['depth'][np.isnan(dictsed_np['depth'])] = None #'NaN' #-999 # nodata\n",
    "    dictsed['depth'] = dictsed_np['depth'].tolist()\n",
    "\n",
    "    #properties = dictsed\n",
    "\n",
    "    #properties['depth'] = depthvalues\n",
    "\n",
    "    for ff in range(len(timeDT)):\n",
    "        for kk in list(dictsed.keys()):\n",
    "            properties[kk] = dictsed[kk][ff]\n",
    "        properties['id'] = nc.chartostring(dataset['label'][ff],encoding='utf-8').tolist()\n",
    "        properties['url'] = url\n",
    "        properties['time'] = timeUX[ff]\n",
    "\n",
    "        feature_pt = geojson.Feature(geometry=geojson.Point(coordinates=[lon[ff], lat[ff]]), properties=properties)\n",
    "        features.append(feature_pt)\n",
    "    #features.append(features_pt)\n"
   ]
  },
  {
   "cell_type": "code",
   "execution_count": 20,
   "metadata": {},
   "outputs": [
    {
     "data": {
      "text/plain": [
       "{\"geometry\": {\"coordinates\": [4.216229588048768, 52.09187568004734], \"type\": \"Point\"}, \"properties\": {\"D10\": 124.043333333333, \"D30\": 172.2416666666665, \"D50\": 220.44, \"D60\": 324.3183333333335, \"D90\": 428.196666666667, \"depth\": -11.410415, \"id\": \"11.5_344 \", \"time\": 1440367200, \"url\": \"http://opendap.tudelft.nl/thredds/dodsC/data2/zandmotor/morphology/sediment_composition/sedimentsampling_sandmotor_aug2015.nc\"}, \"type\": \"Feature\"}"
      ]
     },
     "execution_count": 20,
     "metadata": {},
     "output_type": "execute_result"
    }
   ],
   "source": [
    "feature_pt"
   ]
  },
  {
   "cell_type": "code",
   "execution_count": 21,
   "metadata": {},
   "outputs": [],
   "source": [
    "featurecollection = geojson.FeatureCollection(features)\n",
    "\n",
    "with open(r'../static/sediment_data.geojson', 'w') as f:\n",
    "    json.dump(featurecollection, f)"
   ]
  },
  {
   "cell_type": "code",
   "execution_count": 22,
   "metadata": {},
   "outputs": [],
   "source": [
    "#load the saved geojson\n",
    "with open(r'../static/sediment_data.geojson', 'r') as f:\n",
    "    data = json.load(f)\n",
    "\n",
    "fcoord = []; fid = []; fD10 = []; fD30 = []; fD50 = []; fD60 = []; fD90 = []; fdepth = []; ftime = [];\n",
    "for feat in data['features']:\n",
    "    # feat['geometry']['type'] # type\n",
    "    fid.append(feat['properties']['id']) # coordinates\n",
    "    fcoord.append([feat['geometry']['coordinates'][1],feat['geometry']['coordinates'][0]]) # coordinates\n",
    "    fD10.append(feat['properties']['D10']) # D10\n",
    "    fD30.append(feat['properties']['D30']) # D30\n",
    "    fD50.append(feat['properties']['D50']) # D50\n",
    "    fD60.append(feat['properties']['D60']) # D60\n",
    "    fD90.append(feat['properties']['D90']) # D90\n",
    "    fdepth.append(feat['properties']['depth']) # depth\n",
    "    ftime.append(feat['properties']['time']) # time\n"
   ]
  },
  {
   "cell_type": "code",
   "execution_count": null,
   "metadata": {},
   "outputs": [],
   "source": []
  },
  {
   "cell_type": "code",
   "execution_count": 23,
   "metadata": {},
   "outputs": [],
   "source": [
    "# get sed data from the list\n",
    "def seddata(D10,D30,D50,D60,D90):\n",
    "    x = [0, 10, 30, 50, 60, 90]\n",
    "    y = [0,D10,D30,D50,D60,D90]\n",
    "    return x, y"
   ]
  },
  {
   "cell_type": "code",
   "execution_count": 24,
   "metadata": {},
   "outputs": [
    {
     "data": {
      "text/plain": [
       "[<matplotlib.lines.Line2D at 0x7f94fd50dac8>]"
      ]
     },
     "execution_count": 24,
     "metadata": {},
     "output_type": "execute_result"
    },
    {
     "data": {
      "image/png": "[encoded data removed]",
      "text/plain": [
       "<matplotlib.figure.Figure at 0x7f94ff8d4668>"
      ]
     },
     "metadata": {},
     "output_type": "display_data"
    }
   ],
   "source": [
    "import random\n",
    "row_i = random.randint(0,len(fid))\n",
    "\n",
    "curvex,curvey = seddata(fD10[row_i],fD30[row_i],fD50[row_i],fD60[row_i],fD90[row_i])\n",
    "\n",
    "# plot of sediment curve is missing. Addit!\n",
    "f, axarr = plt.subplots(2, sharex=True)\n",
    "\n",
    "axarr[0].plot(curvex,curvey,'-o')\n",
    "axarr[0].set_title('Cdf and Pdf ')\n",
    "axarr[1].plot(np.diff(curvex)/2.+curvex[:-1],np.diff(curvey),'-o') # to be changed..\n"
   ]
  },
  {
   "cell_type": "code",
   "execution_count": null,
   "metadata": {},
   "outputs": [],
   "source": []
  },
  {
   "cell_type": "code",
   "execution_count": 100,
   "metadata": {},
   "outputs": [
    {
     "data": {
      "text/plain": [
       "array([  5.,  20.,  40.,  55.,  75.])"
      ]
     },
     "execution_count": 100,
     "metadata": {},
     "output_type": "execute_result"
    }
   ],
   "source": [
    "np.diff(curvex)/2.+curvex[:-1]"
   ]
  },
  {
   "cell_type": "code",
   "execution_count": null,
   "metadata": {},
   "outputs": [],
   "source": []
  }
 ],
 "metadata": {
  "kernelspec": {
   "display_name": "Python 3",
   "language": "python",
   "name": "python3"
  },
  "language_info": {
   "codemirror_mode": {
    "name": "ipython",
    "version": 3
   },
   "file_extension": ".py",
   "mimetype": "text/x-python",
   "name": "python",
   "nbconvert_exporter": "python",
   "pygments_lexer": "ipython3",
   "version": "3.6.3"
  }
 },
 "nbformat": 4,
 "nbformat_minor": 1
}
