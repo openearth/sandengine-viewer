{
 "cells": [
  {
   "cell_type": "code",
   "execution_count": 11,
   "metadata": {
    "collapsed": true
   },
   "outputs": [],
   "source": [
    "import netCDF4 as nc\n",
    "import numpy as np\n",
    "import pydap.client\n",
    "import geojson"
   ]
  },
  {
   "cell_type": "code",
   "execution_count": 106,
   "metadata": {
    "collapsed": false
   },
   "outputs": [
    {
     "data": {
      "text/plain": [
       "'import meteo data from opendap'"
      ]
     },
     "execution_count": 106,
     "metadata": {},
     "output_type": "execute_result"
    }
   ],
   "source": [
    "'''import meteo data from opendap'''\n",
    "\n",
    "# meteo_url = r\"http://opendap.tudelft.nl/thredds/dodsC/data2/zandmotor/meteohydro/meteo/meteo/meteo.nc\"\n",
    "# meteo_data = nc.Dataset(meteo_url)"
   ]
  },
  {
   "cell_type": "code",
   "execution_count": 113,
   "metadata": {
    "collapsed": false
   },
   "outputs": [],
   "source": [
    "'''import wind data from opendap'''\n",
    "wind_url = \"http://opendap.tudelft.nl/thredds/dodsC/data2/zandmotor/meteohydro/wind/wind.nc\"\n",
    "wind_data = nc.Dataset(wind_url)\n",
    "lat = float(np.squeeze(wind_data.variables['lat'][:]))\n",
    "lon = float(np.squeeze(wind_data.variables['lon'][:]))\n",
    "direc = np.squeeze(wind_data.variables['direction'][:]).tolist()\n",
    "aspeed = np.squeeze( wind_data.variables['average_speed'][:]).tolist()\n",
    "\n",
    "time = wind_data.variables['time']\n",
    "\n",
    "timeDT = list(map(str, nc.num2date(time[:], units=time.units).tolist()))\n"
   ]
  },
  {
   "cell_type": "code",
   "execution_count": 114,
   "metadata": {
    "collapsed": false
   },
   "outputs": [],
   "source": [
    "import json\n",
    "jsonlist = dict({'lat': lat, 'lon': lon, 'direc': direc, 'aspeed': aspeed, 'time': timeDT})\n",
    "with open('wind_data.json', 'w') as f:\n",
    "    json.dump(jsonlist, f)"
   ]
  },
  {
   "cell_type": "code",
   "execution_count": null,
   "metadata": {
    "collapsed": true
   },
   "outputs": [],
   "source": []
  }
 ],
 "metadata": {
  "kernelspec": {
   "display_name": "Python 3",
   "language": "python",
   "name": "python3"
  },
  "language_info": {
   "codemirror_mode": {
    "name": "ipython",
    "version": 3
   },
   "file_extension": ".py",
   "mimetype": "text/x-python",
   "name": "python",
   "nbconvert_exporter": "python",
   "pygments_lexer": "ipython3",
   "version": "3.4.5"
  }
 },
 "nbformat": 4,
 "nbformat_minor": 2
}
